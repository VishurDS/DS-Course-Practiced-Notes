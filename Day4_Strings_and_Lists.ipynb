{
  "cells": [
    {
      "cell_type": "markdown",
      "metadata": {
        "id": "xqT7qEK_vBMB"
      },
      "source": [
        "**Logic building is very important**\n",
        "\n",
        "_Google is there for coding, act in smarter way_\n"
      ]
    },
    {
      "cell_type": "markdown",
      "metadata": {
        "id": "UW8jelQZxJJb"
      },
      "source": [
        "# **String**\n",
        "\n",
        "Iterable, immutable, ordered"
      ]
    },
    {
      "cell_type": "code",
      "execution_count": null,
      "metadata": {
        "id": "2h3HBtTztlwh"
      },
      "outputs": [],
      "source": [
        "name = \"Data Science Masters\"\n"
      ]
    },
    {
      "cell_type": "code",
      "execution_count": null,
      "metadata": {
        "colab": {
          "base_uri": "https://localhost:8080/",
          "height": 35
        },
        "id": "JTyiKnpfwqa9",
        "outputId": "280913b1-49ec-4cb6-a119-bb791f1d2d0b"
      },
      "outputs": [
        {
          "output_type": "execute_result",
          "data": {
            "text/plain": [
              "'dATA sCIENCE mASTERS'"
            ],
            "application/vnd.google.colaboratory.intrinsic+json": {
              "type": "string"
            }
          },
          "metadata": {},
          "execution_count": 3
        }
      ],
      "source": [
        "name.swapcase()"
      ]
    },
    {
      "cell_type": "code",
      "execution_count": null,
      "metadata": {
        "colab": {
          "base_uri": "https://localhost:8080/",
          "height": 35
        },
        "id": "2DVWcf7dwsDc",
        "outputId": "077bd8ff-7350-46a2-96b4-292ec7d4c7c6"
      },
      "outputs": [
        {
          "output_type": "execute_result",
          "data": {
            "text/plain": [
              "'Data Science Masters'"
            ],
            "application/vnd.google.colaboratory.intrinsic+json": {
              "type": "string"
            }
          },
          "metadata": {},
          "execution_count": 4
        }
      ],
      "source": [
        "name.title()"
      ]
    },
    {
      "cell_type": "code",
      "execution_count": null,
      "metadata": {
        "colab": {
          "base_uri": "https://localhost:8080/",
          "height": 35
        },
        "id": "cmbm11whwz3c",
        "outputId": "41160b2e-878d-4012-a923-e3c02e7c685f"
      },
      "outputs": [
        {
          "output_type": "execute_result",
          "data": {
            "text/plain": [
              "'Data science masters'"
            ],
            "application/vnd.google.colaboratory.intrinsic+json": {
              "type": "string"
            }
          },
          "metadata": {},
          "execution_count": 5
        }
      ],
      "source": [
        "name.capitalize() #only first character will be capital remaining all will be small"
      ]
    },
    {
      "cell_type": "markdown",
      "metadata": {
        "id": "DUVwEZYyxP-D"
      },
      "source": [
        "### **Reversing a string**"
      ]
    },
    {
      "cell_type": "code",
      "execution_count": null,
      "metadata": {
        "colab": {
          "base_uri": "https://localhost:8080/",
          "height": 35
        },
        "id": "yEpqyFGkw3NL",
        "outputId": "2ac650bf-1de8-46fb-c3a8-c8bd68fbd9e9"
      },
      "outputs": [
        {
          "output_type": "execute_result",
          "data": {
            "text/plain": [
              "'sretsaM ecneicS ataD'"
            ],
            "application/vnd.google.colaboratory.intrinsic+json": {
              "type": "string"
            }
          },
          "metadata": {},
          "execution_count": 6
        }
      ],
      "source": [
        "name[::-1] #with slicing operation"
      ]
    },
    {
      "cell_type": "code",
      "execution_count": null,
      "metadata": {
        "colab": {
          "base_uri": "https://localhost:8080/"
        },
        "id": "g7bwYF7cxWXi",
        "outputId": "366f756b-d03a-4553-da45-69e9c5c5221e"
      },
      "outputs": [
        {
          "output_type": "execute_result",
          "data": {
            "text/plain": [
              "<reversed at 0x7b385fb89120>"
            ]
          },
          "metadata": {},
          "execution_count": 7
        }
      ],
      "source": [
        "reversed(name)"
      ]
    },
    {
      "cell_type": "markdown",
      "metadata": {
        "id": "6sGOh7rvxw2b"
      },
      "source": [
        "### reversing a string with Join and reversed() function"
      ]
    },
    {
      "cell_type": "code",
      "execution_count": null,
      "metadata": {
        "colab": {
          "base_uri": "https://localhost:8080/",
          "height": 35
        },
        "id": "izolScPexgRT",
        "outputId": "1f5c5691-32ac-42c4-f7e8-ca014187c255"
      },
      "outputs": [
        {
          "output_type": "execute_result",
          "data": {
            "text/plain": [
              "'s r e t s a M   e c n e i c S   a t a D'"
            ],
            "application/vnd.google.colaboratory.intrinsic+json": {
              "type": "string"
            }
          },
          "metadata": {},
          "execution_count": 8
        }
      ],
      "source": [
        "\" \".join(reversed(name))"
      ]
    },
    {
      "cell_type": "code",
      "execution_count": null,
      "metadata": {
        "colab": {
          "base_uri": "https://localhost:8080/",
          "height": 35
        },
        "id": "4D8AyoFZx6yn",
        "outputId": "7bafad86-4166-4ab8-f1c4-e091c1df96cf"
      },
      "outputs": [
        {
          "output_type": "execute_result",
          "data": {
            "text/plain": [
              "'sretsaM ecneicS ataD'"
            ],
            "application/vnd.google.colaboratory.intrinsic+json": {
              "type": "string"
            }
          },
          "metadata": {},
          "execution_count": 9
        }
      ],
      "source": [
        "\"\".join(reversed(name))"
      ]
    },
    {
      "cell_type": "code",
      "execution_count": null,
      "metadata": {
        "colab": {
          "base_uri": "https://localhost:8080/",
          "height": 35
        },
        "id": "a85q4io2x-x0",
        "outputId": "89a99572-11e4-406e-f74c-c7dcd1422fb6"
      },
      "outputs": [
        {
          "output_type": "execute_result",
          "data": {
            "text/plain": [
              "'NKrishaKrishiKrishk'"
            ],
            "application/vnd.google.colaboratory.intrinsic+json": {
              "type": "string"
            }
          },
          "metadata": {},
          "execution_count": 10
        }
      ],
      "source": [
        "\"Krish\".join(\"Naik\")"
      ]
    },
    {
      "cell_type": "markdown",
      "metadata": {
        "id": "k06VAdb2yw2W"
      },
      "source": [
        "### **join()**\n",
        "\n",
        "The join() method takes all items in an iterable and joins them into one string.\n",
        "\n",
        "string.join(iterable)"
      ]
    },
    {
      "cell_type": "code",
      "execution_count": null,
      "metadata": {
        "colab": {
          "base_uri": "https://localhost:8080/",
          "height": 35
        },
        "id": "FEKQbxR-wNuD",
        "outputId": "c95f233d-4a9e-4b05-edd0-e9923a8acbe3"
      },
      "outputs": [
        {
          "output_type": "execute_result",
          "data": {
            "text/plain": [
              "'V$i$s$h$a$l'"
            ],
            "application/vnd.google.colaboratory.intrinsic+json": {
              "type": "string"
            }
          },
          "metadata": {},
          "execution_count": 11
        }
      ],
      "source": [
        "\"$\".join(\"Vishal\")"
      ]
    },
    {
      "cell_type": "code",
      "execution_count": null,
      "metadata": {
        "colab": {
          "base_uri": "https://localhost:8080/",
          "height": 35
        },
        "id": "Nxs4zuYgyVt4",
        "outputId": "ea3d08e0-8e2a-489d-fa9f-672a7db29257"
      },
      "outputs": [
        {
          "output_type": "execute_result",
          "data": {
            "text/plain": [
              "'V-i-s-h-a-l'"
            ],
            "application/vnd.google.colaboratory.intrinsic+json": {
              "type": "string"
            }
          },
          "metadata": {},
          "execution_count": 12
        }
      ],
      "source": [
        "\"-\".join(\"Vishal\")"
      ]
    },
    {
      "cell_type": "code",
      "execution_count": null,
      "metadata": {
        "colab": {
          "base_uri": "https://localhost:8080/"
        },
        "id": "wZsA_mJPaDP8",
        "outputId": "21d47637-64ce-465c-f63d-c0586f211dc3"
      },
      "outputs": [
        {
          "output_type": "stream",
          "name": "stdout",
          "text": [
            "['a', 'b', 'c', 'd', 'e', 'f', 'g', 'h', 'i', 'j', 'k', 'l', 'm', 'n', 'o', 'p', 'q', 'r', 's', 't', 'u', 'v', 'w', 'x', 'y', 'z']\n"
          ]
        }
      ],
      "source": [
        "print(\"a b c d e f g h i j k l m n o p q r s t u v w x y z\".split(\" \"))"
      ]
    },
    {
      "cell_type": "code",
      "execution_count": null,
      "metadata": {
        "colab": {
          "base_uri": "https://localhost:8080/",
          "height": 35
        },
        "id": "WVygHzr_aLra",
        "outputId": "1a88c1c8-d345-4ea2-ed86-a66382ac9ae8"
      },
      "outputs": [
        {
          "output_type": "execute_result",
          "data": {
            "text/plain": [
              "'a b c d e f g h i j k l m n o p q r s t u v w x y z'"
            ],
            "application/vnd.google.colaboratory.intrinsic+json": {
              "type": "string"
            }
          },
          "metadata": {},
          "execution_count": 14
        }
      ],
      "source": [
        "\" \".join(reversed(\"zyxwvutsrqponmlkjihgfedcba\"))"
      ]
    },
    {
      "cell_type": "code",
      "execution_count": null,
      "metadata": {
        "colab": {
          "base_uri": "https://localhost:8080/"
        },
        "id": "mEF8VCiEv0G9",
        "outputId": "6316f392-1286-4ba9-f7e0-746375b5aa29"
      },
      "outputs": [
        {
          "output_type": "execute_result",
          "data": {
            "text/plain": [
              "['a',\n",
              " 'b',\n",
              " 'c',\n",
              " 'd',\n",
              " 'e',\n",
              " 'f',\n",
              " 'g',\n",
              " 'h',\n",
              " 'i',\n",
              " 'j',\n",
              " 'k',\n",
              " 'l',\n",
              " 'm',\n",
              " 'n',\n",
              " 'o',\n",
              " 'p',\n",
              " 'q',\n",
              " 'r',\n",
              " 's',\n",
              " 't',\n",
              " 'u',\n",
              " 'v',\n",
              " 'w',\n",
              " 'x',\n",
              " 'y',\n",
              " 'z']"
            ]
          },
          "metadata": {},
          "execution_count": 15
        }
      ],
      "source": [
        "\" \".join(reversed(\"zyxwvutsrqponmlkjihgfedcba\")).split(\" \")"
      ]
    },
    {
      "cell_type": "code",
      "execution_count": null,
      "metadata": {
        "id": "o2EwqnthwB2P"
      },
      "outputs": [],
      "source": [
        "list_of_alpha = \"a b c d e f g h i j k l m n o p q r s t u v w x y z\".split(\" \")"
      ]
    },
    {
      "cell_type": "code",
      "execution_count": null,
      "metadata": {
        "colab": {
          "base_uri": "https://localhost:8080/",
          "height": 35
        },
        "id": "k-FVvtfd1CU6",
        "outputId": "77905f7d-9daf-42ce-8ef0-7c371b6ca189"
      },
      "outputs": [
        {
          "output_type": "execute_result",
          "data": {
            "text/plain": [
              "'abcdefghijklmnopqrstuvwxyz'"
            ],
            "application/vnd.google.colaboratory.intrinsic+json": {
              "type": "string"
            }
          },
          "metadata": {},
          "execution_count": 17
        }
      ],
      "source": [
        "\"\".join(list_of_alpha)"
      ]
    },
    {
      "cell_type": "code",
      "execution_count": null,
      "metadata": {
        "colab": {
          "base_uri": "https://localhost:8080/",
          "height": 35
        },
        "id": "FPG0KpwX1ICT",
        "outputId": "566bbf43-e34b-4e88-c0ff-a7baa03783bd"
      },
      "outputs": [
        {
          "output_type": "execute_result",
          "data": {
            "text/plain": [
              "'a b c d e f g h i j k l m n o p q r s t u v w x y z'"
            ],
            "application/vnd.google.colaboratory.intrinsic+json": {
              "type": "string"
            }
          },
          "metadata": {},
          "execution_count": 18
        }
      ],
      "source": [
        "\" \".join(list_of_alpha)"
      ]
    },
    {
      "cell_type": "code",
      "execution_count": null,
      "metadata": {
        "colab": {
          "base_uri": "https://localhost:8080/",
          "height": 35
        },
        "id": "UeEJ2AG21OgR",
        "outputId": "87f52e27-c2d1-487c-d002-024210e9a804"
      },
      "outputs": [
        {
          "output_type": "execute_result",
          "data": {
            "text/plain": [
              "'a n t'"
            ],
            "application/vnd.google.colaboratory.intrinsic+json": {
              "type": "string"
            }
          },
          "metadata": {},
          "execution_count": 19
        }
      ],
      "source": [
        "\" \".join(\"ant\")"
      ]
    },
    {
      "cell_type": "code",
      "execution_count": null,
      "metadata": {
        "colab": {
          "base_uri": "https://localhost:8080/",
          "height": 35
        },
        "id": "_VArrT4x2EXe",
        "outputId": "57e41228-6636-46c8-9f58-21a15e38a5dc"
      },
      "outputs": [
        {
          "output_type": "execute_result",
          "data": {
            "text/plain": [
              "'t n a'"
            ],
            "application/vnd.google.colaboratory.intrinsic+json": {
              "type": "string"
            }
          },
          "metadata": {},
          "execution_count": 20
        }
      ],
      "source": [
        "\" \".join(reversed(\"ant\"))"
      ]
    },
    {
      "cell_type": "code",
      "execution_count": null,
      "metadata": {
        "id": "2Si_EkNb2WXc"
      },
      "outputs": [],
      "source": [
        "str1 = \"PW is a good company\""
      ]
    },
    {
      "cell_type": "code",
      "execution_count": null,
      "metadata": {
        "colab": {
          "base_uri": "https://localhost:8080/",
          "height": 35
        },
        "id": "xNHvNAjz3PMe",
        "outputId": "5b5f301d-5f76-4223-d72e-1ea36cd0a2d4"
      },
      "outputs": [
        {
          "output_type": "execute_result",
          "data": {
            "text/plain": [
              "'PSkillsWSkills SkillsiSkillssSkills SkillsaSkills SkillsgSkillsoSkillsoSkillsdSkills SkillscSkillsoSkillsmSkillspSkillsaSkillsnSkillsy'"
            ],
            "application/vnd.google.colaboratory.intrinsic+json": {
              "type": "string"
            }
          },
          "metadata": {},
          "execution_count": 22
        }
      ],
      "source": [
        "\"Skills\".join(str1)  #after every character it will add Skills word"
      ]
    },
    {
      "cell_type": "code",
      "execution_count": null,
      "metadata": {
        "colab": {
          "base_uri": "https://localhost:8080/"
        },
        "id": "3iJ6Rala3itV",
        "outputId": "d82c5430-92e7-453a-b551-031827326a83"
      },
      "outputs": [
        {
          "output_type": "execute_result",
          "data": {
            "text/plain": [
              "['t', 'n', 'a']"
            ]
          },
          "metadata": {},
          "execution_count": 23
        }
      ],
      "source": [
        "list(reversed('ant'))"
      ]
    },
    {
      "cell_type": "code",
      "execution_count": null,
      "metadata": {
        "colab": {
          "base_uri": "https://localhost:8080/"
        },
        "id": "wZqzsIhg4DDb",
        "outputId": "c27b8fa0-1fad-4a08-bba3-8ebd94a22de2"
      },
      "outputs": [
        {
          "output_type": "execute_result",
          "data": {
            "text/plain": [
              "['V', 'i', 's', 'h', 'a', 'l']"
            ]
          },
          "metadata": {},
          "execution_count": 24
        }
      ],
      "source": [
        "list(\"Vishal\")"
      ]
    },
    {
      "cell_type": "code",
      "execution_count": null,
      "metadata": {
        "colab": {
          "base_uri": "https://localhost:8080/"
        },
        "id": "Fx9OJvne4E-Q",
        "outputId": "e71bf43e-5b57-4b6e-d843-7bd50ce6ec09"
      },
      "outputs": [
        {
          "output_type": "stream",
          "name": "stdout",
          "text": [
            "['a', 'b', 'c', 'd', 'e', 'f', 'g', 'h', 'i', 'j', 'k', 'l', 'm', 'n', 'o', 'p', 'q', 'r', 's', 't', 'u', 'v', 'w', 'x', 'y', 'z']\n"
          ]
        }
      ],
      "source": [
        "print(list(\"abcdefghijklmnopqrstuvwxyz\"))"
      ]
    },
    {
      "cell_type": "code",
      "execution_count": null,
      "metadata": {
        "colab": {
          "base_uri": "https://localhost:8080/"
        },
        "id": "xi8jkcuG4OQf",
        "outputId": "18ea7d1a-2a59-4cbc-8e4c-2e85f934a6d6"
      },
      "outputs": [
        {
          "output_type": "stream",
          "name": "stdout",
          "text": [
            "sretsaM ecneicS ataD"
          ]
        }
      ],
      "source": [
        "#another method\n",
        "\n",
        "for i in list(reversed(name)):  #using reversed function\n",
        "  print(i, end=\"\")"
      ]
    },
    {
      "cell_type": "markdown",
      "metadata": {
        "id": "XflrNUm65E3z"
      },
      "source": [
        "### **strip()**\n",
        "\n",
        "Removing character from the end of the string or removing the spaces\n",
        "\n",
        "Using strip() method of string"
      ]
    },
    {
      "cell_type": "code",
      "execution_count": null,
      "metadata": {
        "colab": {
          "base_uri": "https://localhost:8080/",
          "height": 35
        },
        "id": "6oPx3Izv4ljf",
        "outputId": "dfce4d83-03f8-431c-e85f-c189c662e4ab"
      },
      "outputs": [
        {
          "output_type": "execute_result",
          "data": {
            "text/plain": [
              "'pwskills'"
            ],
            "application/vnd.google.colaboratory.intrinsic+json": {
              "type": "string"
            }
          },
          "metadata": {},
          "execution_count": 27
        }
      ],
      "source": [
        "string_a = \" pwskills \"\n",
        "string_a.strip(\" \")"
      ]
    },
    {
      "cell_type": "markdown",
      "metadata": {
        "id": "XOLqBSRB6ayT"
      },
      "source": [
        "**lstrip()**\n",
        "\n",
        "Removing the leading (left side) space from the string"
      ]
    },
    {
      "cell_type": "code",
      "execution_count": null,
      "metadata": {
        "colab": {
          "base_uri": "https://localhost:8080/",
          "height": 35
        },
        "id": "uE1wjRt55bBV",
        "outputId": "682f5e7e-7a9c-4b05-8df9-9a1e8359bf89"
      },
      "outputs": [
        {
          "output_type": "execute_result",
          "data": {
            "text/plain": [
              "'pwskills '"
            ],
            "application/vnd.google.colaboratory.intrinsic+json": {
              "type": "string"
            }
          },
          "metadata": {},
          "execution_count": 28
        }
      ],
      "source": [
        "string_a.lstrip()"
      ]
    },
    {
      "cell_type": "code",
      "execution_count": null,
      "metadata": {
        "colab": {
          "base_uri": "https://localhost:8080/",
          "height": 35
        },
        "id": "ByCcFkD3-Hmr",
        "outputId": "44c7fd5a-9e6d-43bb-97ab-342e44acab1d"
      },
      "outputs": [
        {
          "output_type": "execute_result",
          "data": {
            "text/plain": [
              "' pwskills '"
            ],
            "application/vnd.google.colaboratory.intrinsic+json": {
              "type": "string"
            }
          },
          "metadata": {},
          "execution_count": 29
        }
      ],
      "source": [
        "string_a  #original string is not changing\n",
        "\n",
        "#it is returning the new string"
      ]
    },
    {
      "cell_type": "markdown",
      "metadata": {
        "id": "mQVN9xS76tk6"
      },
      "source": [
        "**rstrip()**\n",
        "\n",
        "Removing the right side space from the string\n",
        "\n",
        "returns the copy\n",
        "\n",
        "Returns the new string with original string unchanged\n"
      ]
    },
    {
      "cell_type": "code",
      "execution_count": null,
      "metadata": {
        "colab": {
          "base_uri": "https://localhost:8080/",
          "height": 176
        },
        "id": "mwOSobtl9VvD",
        "outputId": "1efafc07-d5e8-4148-f37f-7b9b5b2669b0"
      },
      "outputs": [
        {
          "output_type": "error",
          "ename": "TypeError",
          "evalue": "'str' object does not support item assignment",
          "traceback": [
            "\u001b[0;31m---------------------------------------------------------------------------\u001b[0m",
            "\u001b[0;31mTypeError\u001b[0m                                 Traceback (most recent call last)",
            "\u001b[0;32m<ipython-input-30-fb2a2e6be647>\u001b[0m in \u001b[0;36m<cell line: 3>\u001b[0;34m()\u001b[0m\n\u001b[1;32m      1\u001b[0m \u001b[0mstr2\u001b[0m \u001b[0;34m=\u001b[0m\u001b[0;34m\"Vishal\"\u001b[0m\u001b[0;34m\u001b[0m\u001b[0;34m\u001b[0m\u001b[0m\n\u001b[1;32m      2\u001b[0m \u001b[0;34m\u001b[0m\u001b[0m\n\u001b[0;32m----> 3\u001b[0;31m \u001b[0mstr2\u001b[0m\u001b[0;34m[\u001b[0m\u001b[0;36m2\u001b[0m\u001b[0;34m]\u001b[0m\u001b[0;34m=\u001b[0m\u001b[0;34m\"I\"\u001b[0m\u001b[0;34m\u001b[0m\u001b[0;34m\u001b[0m\u001b[0m\n\u001b[0m",
            "\u001b[0;31mTypeError\u001b[0m: 'str' object does not support item assignment"
          ]
        }
      ],
      "source": [
        "str2 =\"Vishal\"\n",
        "\n",
        "str2[2]=\"I\""
      ]
    },
    {
      "cell_type": "code",
      "execution_count": null,
      "metadata": {
        "id": "eHwmjcOd6nZH",
        "colab": {
          "base_uri": "https://localhost:8080/",
          "height": 35
        },
        "outputId": "b89d3aab-0993-4040-db31-764cd5033b0a"
      },
      "outputs": [
        {
          "output_type": "execute_result",
          "data": {
            "text/plain": [
              "' pwskills'"
            ],
            "application/vnd.google.colaboratory.intrinsic+json": {
              "type": "string"
            }
          },
          "metadata": {},
          "execution_count": 31
        }
      ],
      "source": [
        "string_a.rstrip()"
      ]
    },
    {
      "cell_type": "markdown",
      "metadata": {
        "id": "h-u1KmQs9DsH"
      },
      "source": [
        "**replace()**\n",
        "\n",
        "1. replacing a word or characters from the string\n",
        "\n",
        "2. **returns the copy of the string** with words replaced\n",
        "\n",
        "3. **original string remains unchanged** because **strings are immutable**"
      ]
    },
    {
      "cell_type": "code",
      "execution_count": null,
      "metadata": {
        "id": "kGa9uFlq7IRh",
        "colab": {
          "base_uri": "https://localhost:8080/",
          "height": 35
        },
        "outputId": "915ec947-2631-43f8-84a7-de27d68a7ef2"
      },
      "outputs": [
        {
          "output_type": "execute_result",
          "data": {
            "text/plain": [
              "'Greetings from PW Skills'"
            ],
            "application/vnd.google.colaboratory.intrinsic+json": {
              "type": "string"
            }
          },
          "metadata": {},
          "execution_count": 32
        }
      ],
      "source": [
        "string_n = \"Greetings to PW Skills\" #replacing word with new word\n",
        "string_n.replace(\"to\", \"from\")"
      ]
    },
    {
      "cell_type": "code",
      "execution_count": null,
      "metadata": {
        "id": "BhEcSjnC9n1c",
        "colab": {
          "base_uri": "https://localhost:8080/",
          "height": 35
        },
        "outputId": "49d423c3-3b85-4fa8-d237-5e5dd305f044"
      },
      "outputs": [
        {
          "output_type": "execute_result",
          "data": {
            "text/plain": [
              "'Treetings to PW Skills'"
            ],
            "application/vnd.google.colaboratory.intrinsic+json": {
              "type": "string"
            }
          },
          "metadata": {},
          "execution_count": 33
        }
      ],
      "source": [
        "string_n.replace(\"G\", \"T\") #replacing a character from the string"
      ]
    },
    {
      "cell_type": "code",
      "execution_count": null,
      "metadata": {
        "colab": {
          "base_uri": "https://localhost:8080/",
          "height": 35
        },
        "id": "aN9MkSP5BPqL",
        "outputId": "5347db85-4a57-4cbb-8185-38d959adbbd4"
      },
      "outputs": [
        {
          "output_type": "execute_result",
          "data": {
            "text/plain": [
              "'test gmail.com'"
            ],
            "application/vnd.google.colaboratory.intrinsic+json": {
              "type": "string"
            }
          },
          "metadata": {},
          "execution_count": 34
        }
      ],
      "source": [
        "string_2 =  \"test@gmail.com\"\n",
        "string_2.replace(\"@\", \" \")"
      ]
    },
    {
      "cell_type": "code",
      "execution_count": null,
      "metadata": {
        "id": "M_CVEwgo_T_s"
      },
      "outputs": [],
      "source": [
        "#values returned by above method can be stored in another variable\n",
        "var_1 = string_n.replace(\"G\", \"T\")"
      ]
    },
    {
      "cell_type": "code",
      "execution_count": null,
      "metadata": {
        "id": "ysTeOXTA_w5F",
        "colab": {
          "base_uri": "https://localhost:8080/"
        },
        "outputId": "60eb10e8-9604-4a4a-90dc-f94c492df599"
      },
      "outputs": [
        {
          "output_type": "stream",
          "name": "stdout",
          "text": [
            "Treetings to PW Skills\n"
          ]
        }
      ],
      "source": [
        "print(var_1)"
      ]
    },
    {
      "cell_type": "code",
      "execution_count": null,
      "metadata": {
        "id": "5ZSBRmiE_zEb",
        "colab": {
          "base_uri": "https://localhost:8080/"
        },
        "outputId": "a2f61f67-a93c-42d3-be92-0a8e32a90c13"
      },
      "outputs": [
        {
          "output_type": "stream",
          "name": "stdout",
          "text": [
            "135481999450768\n",
            "135481999454768\n"
          ]
        }
      ],
      "source": [
        "#lets check the id of these two variables\n",
        "print(id(string_n))\n",
        "print(id(var_1))"
      ]
    },
    {
      "cell_type": "markdown",
      "metadata": {
        "id": "JMFJNNuqAF77"
      },
      "source": [
        "**Ids are different here**\n",
        "\n",
        "We are getting new copy with new id"
      ]
    },
    {
      "cell_type": "code",
      "execution_count": null,
      "metadata": {
        "colab": {
          "base_uri": "https://localhost:8080/",
          "height": 35
        },
        "id": "97d_x-oFADc8",
        "outputId": "e4b112d3-c159-49c7-d628-dc68ec9ee0a0"
      },
      "outputs": [
        {
          "output_type": "execute_result",
          "data": {
            "text/plain": [
              "'Hello \\nWorld'"
            ],
            "application/vnd.google.colaboratory.intrinsic+json": {
              "type": "string"
            }
          },
          "metadata": {},
          "execution_count": 38
        }
      ],
      "source": [
        "\"Hello \\nWorld\""
      ]
    },
    {
      "cell_type": "code",
      "execution_count": null,
      "metadata": {
        "colab": {
          "base_uri": "https://localhost:8080/",
          "height": 35
        },
        "id": "0RgX8mc5B-Fs",
        "outputId": "29838114-c579-4004-d513-4d71a369fc93"
      },
      "outputs": [
        {
          "output_type": "execute_result",
          "data": {
            "text/plain": [
              "'Hello \\tWorld'"
            ],
            "application/vnd.google.colaboratory.intrinsic+json": {
              "type": "string"
            }
          },
          "metadata": {},
          "execution_count": 39
        }
      ],
      "source": [
        "\"Hello \\tWorld\""
      ]
    },
    {
      "cell_type": "code",
      "execution_count": null,
      "metadata": {
        "colab": {
          "base_uri": "https://localhost:8080/",
          "height": 35
        },
        "id": "rek0TTl8CC80",
        "outputId": "168c77f4-85ef-46d5-d8c6-d71a1298a49c"
      },
      "outputs": [
        {
          "output_type": "execute_result",
          "data": {
            "text/plain": [
              "'Hello   World'"
            ],
            "application/vnd.google.colaboratory.intrinsic+json": {
              "type": "string"
            }
          },
          "metadata": {},
          "execution_count": 40
        }
      ],
      "source": [
        "\"Hello \\tWorld\".expandtabs()"
      ]
    },
    {
      "cell_type": "code",
      "execution_count": null,
      "metadata": {
        "colab": {
          "base_uri": "https://localhost:8080/"
        },
        "id": "AD4yJrP9CJ4Q",
        "outputId": "08f153a6-f8a2-42fa-fcf4-cf22fffa1fbe"
      },
      "outputs": [
        {
          "output_type": "stream",
          "name": "stdout",
          "text": [
            "Hello \n",
            "World\n"
          ]
        }
      ],
      "source": [
        "print(\"Hello \\nWorld\") #But in print() it is getting considered"
      ]
    },
    {
      "cell_type": "code",
      "execution_count": null,
      "metadata": {
        "colab": {
          "base_uri": "https://localhost:8080/"
        },
        "id": "cEllacnUCRUB",
        "outputId": "97e4a8c6-8af1-4aca-c26c-0fbf069a1356"
      },
      "outputs": [
        {
          "output_type": "stream",
          "name": "stdout",
          "text": [
            "Hello \tWorld\n"
          ]
        }
      ],
      "source": [
        "print(\"Hello \\tWorld\")"
      ]
    },
    {
      "cell_type": "code",
      "execution_count": null,
      "metadata": {
        "id": "9BgAiHY-CjAF"
      },
      "outputs": [],
      "source": []
    },
    {
      "cell_type": "code",
      "execution_count": null,
      "metadata": {
        "id": "vnBt2T6XCnsm"
      },
      "outputs": [],
      "source": [
        "#replace the Dat, cience with Data, Science words\n",
        "str2 = \"Welcome to PW skills. Welcome to Dat cience Masters\""
      ]
    },
    {
      "cell_type": "code",
      "execution_count": null,
      "metadata": {
        "colab": {
          "base_uri": "https://localhost:8080/",
          "height": 35
        },
        "id": "TDpXL5fPDeWt",
        "outputId": "f0814ed3-ef06-4254-84b5-f2e1ac0c336d"
      },
      "outputs": [
        {
          "output_type": "execute_result",
          "data": {
            "text/plain": [
              "'Welcome to PW skills. Welcome to Data Science Masters'"
            ],
            "application/vnd.google.colaboratory.intrinsic+json": {
              "type": "string"
            }
          },
          "metadata": {},
          "execution_count": 44
        }
      ],
      "source": [
        "#replacing using replace() one time because both words adjacent to each other\n",
        "str2.replace(\"Dat cience\", \"Data Science\")"
      ]
    },
    {
      "cell_type": "code",
      "execution_count": null,
      "metadata": {
        "colab": {
          "base_uri": "https://localhost:8080/",
          "height": 35
        },
        "id": "uEcHqNOtDmuJ",
        "outputId": "ef048e20-6b64-4044-ce28-fc77738f1d27"
      },
      "outputs": [
        {
          "output_type": "execute_result",
          "data": {
            "text/plain": [
              "'Welcome to PW skills. Welcome to Data Science Masters'"
            ],
            "application/vnd.google.colaboratory.intrinsic+json": {
              "type": "string"
            }
          },
          "metadata": {},
          "execution_count": 45
        }
      ],
      "source": [
        "#Replacing using the replace() two times in single line (more useful and better way)\n",
        "str2.replace(\"Dat\",\"Data\").replace(\"cience\",\"Science\")"
      ]
    },
    {
      "cell_type": "markdown",
      "metadata": {
        "id": "iTNT0Jr4E4ik"
      },
      "source": [
        "**isupper()**\n",
        "\n",
        "Checks whether the string is in uppercase(True) or not(False)\n",
        "\n",
        "\n",
        "**islower()**\n",
        "\n",
        "Checks whether the string is in lowercase(True) or not(False)\n",
        "\n",
        "**isspace()**\n",
        "\n",
        "Returns True if the string is whitespace, otherwise False"
      ]
    },
    {
      "cell_type": "code",
      "execution_count": null,
      "metadata": {
        "colab": {
          "base_uri": "https://localhost:8080/"
        },
        "id": "KrsBl5HBEJlJ",
        "outputId": "966ffc40-94ce-4ed9-e229-89a05f561b4e"
      },
      "outputs": [
        {
          "output_type": "execute_result",
          "data": {
            "text/plain": [
              "False"
            ]
          },
          "metadata": {},
          "execution_count": 46
        }
      ],
      "source": [
        "str2.isupper()"
      ]
    },
    {
      "cell_type": "code",
      "execution_count": null,
      "metadata": {
        "colab": {
          "base_uri": "https://localhost:8080/"
        },
        "id": "DdcsEiwHFRHc",
        "outputId": "3c94fa0f-4d14-4398-c0ea-cc3c671de4d9"
      },
      "outputs": [
        {
          "output_type": "execute_result",
          "data": {
            "text/plain": [
              "True"
            ]
          },
          "metadata": {},
          "execution_count": 47
        }
      ],
      "source": [
        "str3=\"VISHAL\"\n",
        "str3.isupper()"
      ]
    },
    {
      "cell_type": "code",
      "execution_count": null,
      "metadata": {
        "colab": {
          "base_uri": "https://localhost:8080/"
        },
        "id": "pLrWa8GsFh0H",
        "outputId": "6b0a736e-e0e3-4540-8d22-f0ab0dd62d63"
      },
      "outputs": [
        {
          "output_type": "execute_result",
          "data": {
            "text/plain": [
              "False"
            ]
          },
          "metadata": {},
          "execution_count": 48
        }
      ],
      "source": [
        "str2.islower()"
      ]
    },
    {
      "cell_type": "code",
      "execution_count": null,
      "metadata": {
        "colab": {
          "base_uri": "https://localhost:8080/"
        },
        "id": "gfpkw6pWGGpF",
        "outputId": "e2dd1ba5-e9c4-4a67-b793-f93505df4378"
      },
      "outputs": [
        {
          "output_type": "execute_result",
          "data": {
            "text/plain": [
              "True"
            ]
          },
          "metadata": {},
          "execution_count": 49
        }
      ],
      "source": [
        "str4 = \"vishal\"\n",
        "str4.islower()"
      ]
    },
    {
      "cell_type": "code",
      "execution_count": null,
      "metadata": {
        "colab": {
          "base_uri": "https://localhost:8080/"
        },
        "id": "R6qz_RkAGMJQ",
        "outputId": "f84a1eac-6165-4c07-8136-190ee30b44f5"
      },
      "outputs": [
        {
          "output_type": "execute_result",
          "data": {
            "text/plain": [
              "False"
            ]
          },
          "metadata": {},
          "execution_count": 50
        }
      ],
      "source": [
        "str2.isspace()"
      ]
    },
    {
      "cell_type": "code",
      "execution_count": null,
      "metadata": {
        "colab": {
          "base_uri": "https://localhost:8080/"
        },
        "id": "xmuhhxCfGO6d",
        "outputId": "99c1db93-e909-4053-e241-b4ccb529eef8"
      },
      "outputs": [
        {
          "output_type": "execute_result",
          "data": {
            "text/plain": [
              "True"
            ]
          },
          "metadata": {},
          "execution_count": 51
        }
      ],
      "source": [
        "\" \".isspace()  #we can check user has entered some value or not"
      ]
    },
    {
      "cell_type": "markdown",
      "metadata": {
        "id": "bhY30mgmHeJd"
      },
      "source": [
        "**endswith()**\n",
        "\n",
        "**startswith()**\n",
        "\n",
        "string or characters both can be checked"
      ]
    },
    {
      "cell_type": "code",
      "execution_count": null,
      "metadata": {
        "id": "GqUsNSdPGby4"
      },
      "outputs": [],
      "source": [
        "str5 = \"PW Skills\""
      ]
    },
    {
      "cell_type": "code",
      "execution_count": null,
      "metadata": {
        "colab": {
          "base_uri": "https://localhost:8080/"
        },
        "id": "HhobqWKxHdJ8",
        "outputId": "cc5179b8-217c-487f-8e6d-187a37682cb7"
      },
      "outputs": [
        {
          "output_type": "execute_result",
          "data": {
            "text/plain": [
              "True"
            ]
          },
          "metadata": {},
          "execution_count": 53
        }
      ],
      "source": [
        "str5.endswith('s')"
      ]
    },
    {
      "cell_type": "code",
      "execution_count": null,
      "metadata": {
        "colab": {
          "base_uri": "https://localhost:8080/"
        },
        "id": "pSYU33tHHp90",
        "outputId": "32b7d252-e0b9-4d6a-b388-a0af53133170"
      },
      "outputs": [
        {
          "output_type": "execute_result",
          "data": {
            "text/plain": [
              "True"
            ]
          },
          "metadata": {},
          "execution_count": 54
        }
      ],
      "source": [
        "str5.endswith(\"ills\")"
      ]
    },
    {
      "cell_type": "code",
      "execution_count": null,
      "metadata": {
        "colab": {
          "base_uri": "https://localhost:8080/"
        },
        "id": "C1h0HQr4Ht5x",
        "outputId": "047ab26c-e87c-408d-dab9-0fb2a7774a27"
      },
      "outputs": [
        {
          "output_type": "execute_result",
          "data": {
            "text/plain": [
              "True"
            ]
          },
          "metadata": {},
          "execution_count": 55
        }
      ],
      "source": [
        "str5.endswith(\"Skills\")"
      ]
    },
    {
      "cell_type": "code",
      "execution_count": null,
      "metadata": {
        "colab": {
          "base_uri": "https://localhost:8080/"
        },
        "id": "vqMOkgseH1Ez",
        "outputId": "ceaf44e8-87f9-47d4-e5d4-f62a8b5adc12"
      },
      "outputs": [
        {
          "output_type": "execute_result",
          "data": {
            "text/plain": [
              "True"
            ]
          },
          "metadata": {},
          "execution_count": 56
        }
      ],
      "source": [
        "str5.startswith(\"PW\")"
      ]
    },
    {
      "cell_type": "code",
      "execution_count": null,
      "metadata": {
        "colab": {
          "base_uri": "https://localhost:8080/"
        },
        "id": "m6SlQ4I0IZ3t",
        "outputId": "4cf3c2cb-d687-4c9f-8c19-4b59f2ac72db"
      },
      "outputs": [
        {
          "output_type": "execute_result",
          "data": {
            "text/plain": [
              "True"
            ]
          },
          "metadata": {},
          "execution_count": 57
        }
      ],
      "source": [
        "str5.startswith('P')"
      ]
    },
    {
      "cell_type": "markdown",
      "metadata": {
        "id": "Tvb9o3FIIkV9"
      },
      "source": [
        "**isalnum()**\n",
        "\n",
        "isalphanumeric()"
      ]
    },
    {
      "cell_type": "code",
      "execution_count": null,
      "metadata": {
        "colab": {
          "base_uri": "https://localhost:8080/"
        },
        "id": "vQV1wPgAIdV4",
        "outputId": "d2ade67f-0aa6-4b80-a912-dad7b8199933"
      },
      "outputs": [
        {
          "output_type": "execute_result",
          "data": {
            "text/plain": [
              "False"
            ]
          },
          "metadata": {},
          "execution_count": 58
        }
      ],
      "source": [
        "#check if all characters in the string are alphanumeric\n",
        "\n",
        "str5.isalnum()"
      ]
    },
    {
      "cell_type": "code",
      "execution_count": null,
      "metadata": {
        "colab": {
          "base_uri": "https://localhost:8080/"
        },
        "id": "dsSkY0sAIuzC",
        "outputId": "edc1e658-5021-49a2-b6cf-abf8d367d8d4"
      },
      "outputs": [
        {
          "output_type": "execute_result",
          "data": {
            "text/plain": [
              "False"
            ]
          },
          "metadata": {},
          "execution_count": 59
        }
      ],
      "source": [
        "str6 = \"test1234@gmail.com\"\n",
        "str6.isalnum()"
      ]
    },
    {
      "cell_type": "code",
      "execution_count": null,
      "metadata": {
        "colab": {
          "base_uri": "https://localhost:8080/"
        },
        "id": "lp7Wrn2JJKIZ",
        "outputId": "ac489aa2-8325-456f-9279-1e49a7de1622"
      },
      "outputs": [
        {
          "output_type": "execute_result",
          "data": {
            "text/plain": [
              "True"
            ]
          },
          "metadata": {},
          "execution_count": 60
        }
      ],
      "source": [
        "str6 = \"test1234gmailcom\"\n",
        "str6.isalnum()"
      ]
    },
    {
      "cell_type": "code",
      "execution_count": null,
      "metadata": {
        "colab": {
          "base_uri": "https://localhost:8080/"
        },
        "id": "CFmZdNbLJUeM",
        "outputId": "66520a47-3c6b-46a0-9c7e-cf1b5c4e5611"
      },
      "outputs": [
        {
          "output_type": "stream",
          "name": "stdout",
          "text": [
            "9\n"
          ]
        }
      ],
      "source": [
        "#Count the number of characters in the string\n",
        "\n",
        "count = 0\n",
        "for i in str5:\n",
        "  count = count + 1\n",
        "\n",
        "print(count)"
      ]
    },
    {
      "cell_type": "code",
      "execution_count": null,
      "metadata": {
        "colab": {
          "base_uri": "https://localhost:8080/"
        },
        "id": "J0-OTxQHKDsj",
        "outputId": "1df21ea1-a770-4e28-9f27-d66a26b1d1c2"
      },
      "outputs": [
        {
          "output_type": "execute_result",
          "data": {
            "text/plain": [
              "9"
            ]
          },
          "metadata": {},
          "execution_count": 62
        }
      ],
      "source": [
        "len(str5)"
      ]
    },
    {
      "cell_type": "code",
      "execution_count": null,
      "metadata": {
        "colab": {
          "base_uri": "https://localhost:8080/"
        },
        "id": "vuOWo9GzKHgW",
        "outputId": "119aed0e-e8d2-482c-e2ff-601a76a263b2"
      },
      "outputs": [
        {
          "output_type": "stream",
          "name": "stdout",
          "text": [
            "P\n",
            "W\n",
            " \n",
            "S\n",
            "k\n",
            "i\n",
            "l\n",
            "l\n",
            "s\n"
          ]
        }
      ],
      "source": [
        "#display the letters in the stings one by one\n",
        "\n",
        "for i in str5:\n",
        "  print(i)"
      ]
    },
    {
      "cell_type": "code",
      "execution_count": null,
      "metadata": {
        "colab": {
          "base_uri": "https://localhost:8080/"
        },
        "id": "wuqqI1BDKaiU",
        "outputId": "a9104ae9-6b49-4c57-ba14-523a5dc7ab02"
      },
      "outputs": [
        {
          "output_type": "stream",
          "name": "stdout",
          "text": [
            "P\n",
            "W\n",
            " \n",
            "S\n",
            "k\n",
            "i\n",
            "l\n",
            "l\n",
            "s\n"
          ]
        }
      ],
      "source": [
        "#using index of the string characters\n",
        "for i in range(len(str5)):\n",
        "  print(str5[i])"
      ]
    },
    {
      "cell_type": "code",
      "execution_count": null,
      "metadata": {
        "colab": {
          "base_uri": "https://localhost:8080/"
        },
        "id": "dwj3iYPGK0B1",
        "outputId": "fc525abc-b144-437e-8ef7-8279245207ca"
      },
      "outputs": [
        {
          "output_type": "execute_result",
          "data": {
            "text/plain": [
              "range(0, 9)"
            ]
          },
          "metadata": {},
          "execution_count": 65
        }
      ],
      "source": [
        "range(len(str5))"
      ]
    },
    {
      "cell_type": "code",
      "execution_count": null,
      "metadata": {
        "colab": {
          "base_uri": "https://localhost:8080/"
        },
        "id": "vpKOv2-iK9xU",
        "outputId": "a279d7d9-1d9f-4d7b-a5d9-3baa55eb1f2a"
      },
      "outputs": [
        {
          "output_type": "stream",
          "name": "stdout",
          "text": [
            "Letter at the index 0 is P\n",
            "Letter at the index 1 is W\n",
            "Letter at the index 2 is  \n",
            "Letter at the index 3 is S\n",
            "Letter at the index 4 is k\n",
            "Letter at the index 5 is i\n",
            "Letter at the index 6 is l\n",
            "Letter at the index 7 is l\n",
            "Letter at the index 8 is s\n"
          ]
        }
      ],
      "source": [
        "#Showing characters with index\n",
        "\n",
        "for i in range(len(str5)):\n",
        "  print(f'Letter at the index {i} is {str5[i]}')"
      ]
    },
    {
      "cell_type": "code",
      "execution_count": null,
      "metadata": {
        "colab": {
          "base_uri": "https://localhost:8080/"
        },
        "id": "0V5IXEfyLX7r",
        "outputId": "fc2e4b0c-ebfb-41a4-9824-8cf4aaabefcc"
      },
      "outputs": [
        {
          "output_type": "stream",
          "name": "stdout",
          "text": [
            "0 = P\n",
            "1 = W\n",
            "2 =  \n",
            "3 = S\n",
            "4 = k\n",
            "5 = i\n",
            "6 = l\n",
            "7 = l\n",
            "8 = s\n"
          ]
        }
      ],
      "source": [
        "#Showing characters with index\n",
        "\n",
        "for i in range(len(str5)):\n",
        "  print(i,\"=\",str5[i])"
      ]
    },
    {
      "cell_type": "code",
      "execution_count": null,
      "metadata": {
        "colab": {
          "base_uri": "https://localhost:8080/"
        },
        "id": "51vMfqoNLsw4",
        "outputId": "7eb59180-cacd-41a2-f3ed-6b8c6ab6e087"
      },
      "outputs": [
        {
          "output_type": "stream",
          "name": "stdout",
          "text": [
            "s\n",
            "l\n",
            "l\n",
            "i\n",
            "k\n",
            "S\n",
            " \n",
            "W\n",
            "P\n"
          ]
        }
      ],
      "source": [
        "#WE can use index to iterate string reverse direction\n",
        "\n",
        "for i in range(len(str5)-1, -1, -1): ##range(start,stop, step)\n",
        "\n",
        "  print(str5[i])"
      ]
    },
    {
      "cell_type": "code",
      "execution_count": null,
      "metadata": {
        "colab": {
          "base_uri": "https://localhost:8080/"
        },
        "id": "pahdEmwenMkn",
        "outputId": "84041317-502d-4fdd-ae7a-6a27907cbd65"
      },
      "outputs": [
        {
          "output_type": "stream",
          "name": "stdout",
          "text": [
            "s\n",
            "l\n",
            "l\n",
            "i\n",
            "k\n",
            "S\n",
            " \n",
            "W\n",
            "P\n"
          ]
        }
      ],
      "source": [
        "#Above example using while loop\n",
        "ch = len(str5)-1\n",
        "while ch >= 0:\n",
        "  print(str5[ch])\n",
        "  ch = ch -1\n",
        "\n"
      ]
    },
    {
      "cell_type": "code",
      "execution_count": null,
      "metadata": {
        "colab": {
          "base_uri": "https://localhost:8080/"
        },
        "id": "t38U5vOCohDv",
        "outputId": "3fd2542f-fcd0-475b-9d12-728fcbcd53bf"
      },
      "outputs": [
        {
          "output_type": "stream",
          "name": "stdout",
          "text": [
            "sllikS WP"
          ]
        }
      ],
      "source": [
        "#Above example using while loop\n",
        "#in single line\n",
        "ch = len(str5)-1\n",
        "while ch >= 0:\n",
        "  print(str5[ch], end = \"\")\n",
        "  ch = ch -1\n",
        "\n"
      ]
    },
    {
      "cell_type": "code",
      "execution_count": null,
      "metadata": {
        "colab": {
          "base_uri": "https://localhost:8080/"
        },
        "id": "IIEQgX-QpxSP",
        "outputId": "304c5e80-a551-4f3d-916b-7fc910536889"
      },
      "outputs": [
        {
          "output_type": "stream",
          "name": "stdout",
          "text": [
            "P is not a vowel\n",
            "W is not a vowel\n",
            "s is not a vowel\n",
            "k is not a vowel\n",
            "i is vowel\n",
            "i is not a vowel\n",
            "l is not a vowel\n",
            "l is not a vowel\n",
            "s is not a vowel\n"
          ]
        }
      ],
      "source": [
        "#check whether string character is vowel or not\n",
        "\n",
        "name = \"PWskills\"\n",
        "vowels = \"AaEeIiOoUu\"\n",
        "\n",
        "for ch in name:\n",
        "  for ch1 in vowels:\n",
        "    if ch == ch1:\n",
        "      print(f'{ch} is vowel')\n",
        "  print(\"{} is not a vowel\".format(ch))\n"
      ]
    },
    {
      "cell_type": "code",
      "execution_count": null,
      "metadata": {
        "colab": {
          "base_uri": "https://localhost:8080/"
        },
        "id": "hQDyPJHNqt-E",
        "outputId": "afe9582f-61a0-4b14-e3ac-ae3b498361e0"
      },
      "outputs": [
        {
          "output_type": "stream",
          "name": "stdout",
          "text": [
            "P is not vowel\n",
            "W is not vowel\n",
            "s is not vowel\n",
            "k is not vowel\n",
            "i is a vowel\n",
            "l is not vowel\n",
            "l is not vowel\n",
            "s is not vowel\n"
          ]
        }
      ],
      "source": [
        "#check whether string character is a vowel or not\n",
        "\n",
        "name = \"PWskills\"\n",
        "vowels = \"AaEeIiOoUu\"\n",
        "\n",
        "for ch in name:\n",
        "  if ch in vowels:\n",
        "    print(f'{ch} is a vowel')\n",
        "  else:\n",
        "    print('{} is not vowel'.format(ch))\n"
      ]
    },
    {
      "cell_type": "code",
      "execution_count": null,
      "metadata": {
        "colab": {
          "base_uri": "https://localhost:8080/"
        },
        "id": "DoMa2J9CrvX9",
        "outputId": "7358cd34-a317-4ff4-c6f0-303c0c475dd9"
      },
      "outputs": [
        {
          "output_type": "execute_result",
          "data": {
            "text/plain": [
              "True"
            ]
          },
          "metadata": {},
          "execution_count": 73
        }
      ],
      "source": [
        "'hello' in ['World', 'hello', 'Hi']"
      ]
    },
    {
      "cell_type": "code",
      "execution_count": null,
      "metadata": {
        "colab": {
          "base_uri": "https://localhost:8080/"
        },
        "id": "mz5Ut--utUdE",
        "outputId": "6e3c0c23-1080-467d-d4ca-490f342d5021"
      },
      "outputs": [
        {
          "output_type": "execute_result",
          "data": {
            "text/plain": [
              "True"
            ]
          },
          "metadata": {},
          "execution_count": 74
        }
      ],
      "source": [
        "'H' in 'SHOW'"
      ]
    },
    {
      "cell_type": "markdown",
      "metadata": {
        "id": "mVvT4qjuwRir"
      },
      "source": [
        "# **LIST**\n",
        "\n",
        "Iterable, mutable, ordered"
      ]
    },
    {
      "cell_type": "code",
      "execution_count": null,
      "metadata": {
        "colab": {
          "base_uri": "https://localhost:8080/"
        },
        "id": "kP0eVQ4stYva",
        "outputId": "b1612cef-92f5-47ba-b6c9-c78da0883f8c"
      },
      "outputs": [
        {
          "output_type": "execute_result",
          "data": {
            "text/plain": [
              "[1, 2, 3, 4, 5]"
            ]
          },
          "metadata": {},
          "execution_count": 75
        }
      ],
      "source": [
        "list([1,2,3,4,5])"
      ]
    },
    {
      "cell_type": "code",
      "execution_count": null,
      "metadata": {
        "colab": {
          "base_uri": "https://localhost:8080/"
        },
        "id": "SWrk-C-twXHU",
        "outputId": "880f186d-cb08-493a-e64e-ed068b73b209"
      },
      "outputs": [
        {
          "output_type": "execute_result",
          "data": {
            "text/plain": [
              "['P', 'W', 'S', 'k', 'i', 'l', 'l', 's']"
            ]
          },
          "metadata": {},
          "execution_count": 76
        }
      ],
      "source": [
        "list('PWSkills')"
      ]
    },
    {
      "cell_type": "code",
      "execution_count": null,
      "metadata": {
        "colab": {
          "base_uri": "https://localhost:8080/"
        },
        "id": "3MHikmKlwbpJ",
        "outputId": "c5716813-de18-4b94-8227-4a518246ac3a"
      },
      "outputs": [
        {
          "output_type": "execute_result",
          "data": {
            "text/plain": [
              "['P', 'W', 's', 'k', 'i', 'l', 'l', 's']"
            ]
          },
          "metadata": {},
          "execution_count": 77
        }
      ],
      "source": [
        "list(name)"
      ]
    },
    {
      "cell_type": "code",
      "execution_count": null,
      "metadata": {
        "id": "2w7vszcswk1p"
      },
      "outputs": [],
      "source": [
        "#converting the string of words in list\n",
        "str1 = \"PW Skills Data Science Masters\"\n",
        "lst1= str1.split(\" \")"
      ]
    },
    {
      "cell_type": "code",
      "execution_count": null,
      "metadata": {
        "colab": {
          "base_uri": "https://localhost:8080/"
        },
        "id": "prs-CHUGw3eV",
        "outputId": "4c095a1d-5eb6-41f2-e7af-106355538c08"
      },
      "outputs": [
        {
          "output_type": "execute_result",
          "data": {
            "text/plain": [
              "['PW', 'Skills', 'Data', 'Science', 'Masters']"
            ]
          },
          "metadata": {},
          "execution_count": 79
        }
      ],
      "source": [
        "str1 = \"PW Skills Data Science Masters\"\n",
        "list(str1.split(\" \"))"
      ]
    },
    {
      "cell_type": "code",
      "execution_count": null,
      "metadata": {
        "colab": {
          "base_uri": "https://localhost:8080/",
          "height": 35
        },
        "id": "Th0MIoISxEOl",
        "outputId": "5d999bbc-7a9f-44bd-f3d3-d899dc342536"
      },
      "outputs": [
        {
          "output_type": "execute_result",
          "data": {
            "text/plain": [
              "'Skills'"
            ],
            "application/vnd.google.colaboratory.intrinsic+json": {
              "type": "string"
            }
          },
          "metadata": {},
          "execution_count": 80
        }
      ],
      "source": [
        "#Slicing and Indexing operations on list\n",
        "\n",
        "lst1[1]"
      ]
    },
    {
      "cell_type": "code",
      "execution_count": null,
      "metadata": {
        "colab": {
          "base_uri": "https://localhost:8080/"
        },
        "id": "kVvu82MiyFQt",
        "outputId": "15300902-875a-4811-8f51-12fe30411b39"
      },
      "outputs": [
        {
          "output_type": "execute_result",
          "data": {
            "text/plain": [
              "['Skills', 'Data', 'Science']"
            ]
          },
          "metadata": {},
          "execution_count": 81
        }
      ],
      "source": [
        "lst1[1:4]"
      ]
    },
    {
      "cell_type": "code",
      "execution_count": null,
      "metadata": {
        "colab": {
          "base_uri": "https://localhost:8080/"
        },
        "id": "zMj-w9c3yItx",
        "outputId": "331ae95e-6117-422b-8c43-4ef8f722242c"
      },
      "outputs": [
        {
          "output_type": "execute_result",
          "data": {
            "text/plain": [
              "['Masters', 'Science', 'Data', 'Skills', 'PW']"
            ]
          },
          "metadata": {},
          "execution_count": 82
        }
      ],
      "source": [
        "lst1[::-1] #reversing list"
      ]
    },
    {
      "cell_type": "code",
      "execution_count": null,
      "metadata": {
        "colab": {
          "base_uri": "https://localhost:8080/",
          "height": 35
        },
        "id": "kjoZA69AyLvi",
        "outputId": "3c29c938-3b03-47cb-b8d5-94fb78f5da49"
      },
      "outputs": [
        {
          "output_type": "execute_result",
          "data": {
            "text/plain": [
              "'Science'"
            ],
            "application/vnd.google.colaboratory.intrinsic+json": {
              "type": "string"
            }
          },
          "metadata": {},
          "execution_count": 83
        }
      ],
      "source": [
        "lst1[-2]"
      ]
    },
    {
      "cell_type": "code",
      "execution_count": null,
      "metadata": {
        "colab": {
          "base_uri": "https://localhost:8080/",
          "height": 35
        },
        "id": "3OYNPnODt0y-",
        "outputId": "4847f644-838f-4994-8afd-8d71b4bb5be0"
      },
      "outputs": [
        {
          "output_type": "execute_result",
          "data": {
            "text/plain": [
              "'PW'"
            ],
            "application/vnd.google.colaboratory.intrinsic+json": {
              "type": "string"
            }
          },
          "metadata": {},
          "execution_count": 84
        }
      ],
      "source": [
        "lst1[-5]"
      ]
    },
    {
      "cell_type": "code",
      "execution_count": null,
      "metadata": {
        "colab": {
          "base_uri": "https://localhost:8080/"
        },
        "id": "VYreT6GSt2g7",
        "outputId": "f86f06c1-1d36-46aa-a878-6ae121fba349"
      },
      "outputs": [
        {
          "output_type": "execute_result",
          "data": {
            "text/plain": [
              "['PW', 'Skills', 'Data', 'Science', 'Masters']"
            ]
          },
          "metadata": {},
          "execution_count": 85
        }
      ],
      "source": [
        "lst1"
      ]
    },
    {
      "cell_type": "code",
      "execution_count": null,
      "metadata": {
        "colab": {
          "base_uri": "https://localhost:8080/"
        },
        "id": "vrqiU8Unt5H0",
        "outputId": "f679651a-81ea-4a40-b1ce-a5de0883a8e3"
      },
      "outputs": [
        {
          "output_type": "execute_result",
          "data": {
            "text/plain": [
              "['Skills', 'Data', 'Science']"
            ]
          },
          "metadata": {},
          "execution_count": 86
        }
      ],
      "source": [
        "lst1[1:-1:1]"
      ]
    },
    {
      "cell_type": "code",
      "execution_count": null,
      "metadata": {
        "colab": {
          "base_uri": "https://localhost:8080/"
        },
        "id": "30nrWgrXuAB1",
        "outputId": "51c52951-e27f-4a01-813b-701304239f18"
      },
      "outputs": [
        {
          "output_type": "execute_result",
          "data": {
            "text/plain": [
              "[]"
            ]
          },
          "metadata": {},
          "execution_count": 87
        }
      ],
      "source": [
        "lst1[1:-1:-1] #nothing is overlapping here"
      ]
    },
    {
      "cell_type": "code",
      "execution_count": null,
      "metadata": {
        "colab": {
          "base_uri": "https://localhost:8080/"
        },
        "id": "qsDyzZ0guCdu",
        "outputId": "a61fcc78-7334-4250-f3c3-b07286e900cb"
      },
      "outputs": [
        {
          "output_type": "execute_result",
          "data": {
            "text/plain": [
              "['Masters', 'Science', 'Data']"
            ]
          },
          "metadata": {},
          "execution_count": 88
        }
      ],
      "source": [
        "lst1[-1:1:-1]"
      ]
    },
    {
      "cell_type": "markdown",
      "metadata": {
        "id": "bfmJSYGSu0z4"
      },
      "source": [
        "### Concatenation operation\n",
        "\n",
        "Concatenating means obtaining a new string that contains both of the original strings. In Python, there are a few ways to concatenate or combine strings. The new string that is created is referred to as a string object.\n",
        "\n",
        "In order to merge two strings into a single object, you may use the + operator.\n",
        "\n",
        "Credits:DataCamp"
      ]
    },
    {
      "cell_type": "code",
      "execution_count": null,
      "metadata": {
        "id": "H4R5Q2PJuTe0"
      },
      "outputs": [],
      "source": [
        "lst2 = [\"Impact\",\"Batch\"]"
      ]
    },
    {
      "cell_type": "code",
      "execution_count": null,
      "metadata": {
        "colab": {
          "base_uri": "https://localhost:8080/"
        },
        "id": "GB1Ly20Xu_2n",
        "outputId": "83eea874-19f1-4a4e-88cd-1737634b7613"
      },
      "outputs": [
        {
          "output_type": "execute_result",
          "data": {
            "text/plain": [
              "['PW', 'Skills', 'Data', 'Science', 'Masters', 'Impact', 'Batch']"
            ]
          },
          "metadata": {},
          "execution_count": 90
        }
      ],
      "source": [
        "#adding two lists together\n",
        "lst1+lst2"
      ]
    },
    {
      "cell_type": "code",
      "execution_count": null,
      "metadata": {
        "id": "Tpe-xaKLvEJl"
      },
      "outputs": [],
      "source": [
        "lst3 = lst1 + [[\"list\",\"Inside\", 'list']] #nested list"
      ]
    },
    {
      "cell_type": "code",
      "execution_count": null,
      "metadata": {
        "colab": {
          "base_uri": "https://localhost:8080/"
        },
        "id": "1lDhshx8vsFt",
        "outputId": "10b06c50-64b9-425b-fd0d-7e1b995ee9c3"
      },
      "outputs": [
        {
          "output_type": "execute_result",
          "data": {
            "text/plain": [
              "['PW', 'Skills', 'Data', 'Science', 'Masters', ['list', 'Inside', 'list']]"
            ]
          },
          "metadata": {},
          "execution_count": 92
        }
      ],
      "source": [
        "lst3"
      ]
    },
    {
      "cell_type": "code",
      "execution_count": null,
      "metadata": {
        "colab": {
          "base_uri": "https://localhost:8080/",
          "height": 35
        },
        "id": "2BFdeRGEv7vW",
        "outputId": "1aecd723-3494-4348-db6b-3d559ccfb477"
      },
      "outputs": [
        {
          "output_type": "execute_result",
          "data": {
            "text/plain": [
              "'Inside'"
            ],
            "application/vnd.google.colaboratory.intrinsic+json": {
              "type": "string"
            }
          },
          "metadata": {},
          "execution_count": 93
        }
      ],
      "source": [
        "#lets pick the 'inside' word from the nested list\n",
        "\n",
        "lst3[5][1]"
      ]
    },
    {
      "cell_type": "code",
      "execution_count": null,
      "metadata": {
        "colab": {
          "base_uri": "https://localhost:8080/",
          "height": 35
        },
        "id": "BmeO6I8SwGaj",
        "outputId": "83d395b8-32c0-49a0-c78d-fa515f1d959b"
      },
      "outputs": [
        {
          "output_type": "execute_result",
          "data": {
            "text/plain": [
              "'Inside'"
            ],
            "application/vnd.google.colaboratory.intrinsic+json": {
              "type": "string"
            }
          },
          "metadata": {},
          "execution_count": 94
        }
      ],
      "source": [
        "lst3[-1][-2]"
      ]
    },
    {
      "cell_type": "code",
      "execution_count": null,
      "metadata": {
        "colab": {
          "base_uri": "https://localhost:8080/"
        },
        "id": "DT0RfdErwMkw",
        "outputId": "f24791a0-a509-4641-d048-f1dde4c10a82"
      },
      "outputs": [
        {
          "output_type": "execute_result",
          "data": {
            "text/plain": [
              "True"
            ]
          },
          "metadata": {},
          "execution_count": 95
        }
      ],
      "source": [
        "'Science' in lst1"
      ]
    },
    {
      "cell_type": "code",
      "execution_count": null,
      "metadata": {
        "colab": {
          "base_uri": "https://localhost:8080/"
        },
        "id": "9cbSm3iKwTU5",
        "outputId": "49833c55-d466-47e5-cca6-b23ac897f52e"
      },
      "outputs": [
        {
          "output_type": "execute_result",
          "data": {
            "text/plain": [
              "False"
            ]
          },
          "metadata": {},
          "execution_count": 96
        }
      ],
      "source": [
        "'Inside' in lst3 #it is inside the nest list"
      ]
    },
    {
      "cell_type": "code",
      "execution_count": null,
      "metadata": {
        "colab": {
          "base_uri": "https://localhost:8080/"
        },
        "id": "zq0YkzIXwVck",
        "outputId": "862a75d8-e65d-4df9-ba4d-138fa75bb025"
      },
      "outputs": [
        {
          "output_type": "execute_result",
          "data": {
            "text/plain": [
              "True"
            ]
          },
          "metadata": {},
          "execution_count": 97
        }
      ],
      "source": [
        "'Inside' in lst3[-1] #now it is true because we are now accessing nested list using indexing"
      ]
    },
    {
      "cell_type": "code",
      "execution_count": null,
      "metadata": {
        "colab": {
          "base_uri": "https://localhost:8080/"
        },
        "id": "ByreO-tvwdLV",
        "outputId": "485a7571-cd45-42e8-aa31-0e71554c50c4"
      },
      "outputs": [
        {
          "output_type": "execute_result",
          "data": {
            "text/plain": [
              "['PW',\n",
              " 'Skills',\n",
              " 'Data',\n",
              " 'Science',\n",
              " 'Masters',\n",
              " 'PW',\n",
              " 'Skills',\n",
              " 'Data',\n",
              " 'Science',\n",
              " 'Masters']"
            ]
          },
          "metadata": {},
          "execution_count": 98
        }
      ],
      "source": [
        "#multiplying list with number results in new list\n",
        "lst1 * 2"
      ]
    },
    {
      "cell_type": "markdown",
      "metadata": {
        "id": "_cUgWOoXxKA9"
      },
      "source": [
        "Here are creating new list and original list is remaining same.\n",
        "\n",
        "But original list can be changed because list is mutable object"
      ]
    },
    {
      "cell_type": "code",
      "execution_count": null,
      "metadata": {
        "colab": {
          "base_uri": "https://localhost:8080/"
        },
        "id": "zHqqN8jLw6U7",
        "outputId": "2fdb9a5e-ac4e-41d0-d848-f5290f2a125a"
      },
      "outputs": [
        {
          "output_type": "execute_result",
          "data": {
            "text/plain": [
              "['PW', 'Skills', 'Data', 'Science', 'Masters']"
            ]
          },
          "metadata": {},
          "execution_count": 99
        }
      ],
      "source": [
        "lst1"
      ]
    },
    {
      "cell_type": "code",
      "execution_count": null,
      "metadata": {
        "colab": {
          "base_uri": "https://localhost:8080/"
        },
        "id": "C4mwRH71xZ_o",
        "outputId": "73fd887d-0c5a-4bec-ff57-55193c5522c4"
      },
      "outputs": [
        {
          "output_type": "stream",
          "name": "stdout",
          "text": [
            "PW\n",
            "Skills\n",
            "Data\n",
            "Science\n"
          ]
        }
      ],
      "source": [
        "#if science is present in the list stop the iteration and come out of list\n",
        "\n",
        "for element in lst1:\n",
        "  print(element)\n",
        "  if element == \"Science\":\n",
        "    break"
      ]
    },
    {
      "cell_type": "code",
      "execution_count": null,
      "metadata": {
        "colab": {
          "base_uri": "https://localhost:8080/"
        },
        "id": "HBFD3cNmx61X",
        "outputId": "39530edf-4d90-476c-9367-a41fc31d3037"
      },
      "outputs": [
        {
          "output_type": "stream",
          "name": "stdout",
          "text": [
            "Present\n"
          ]
        }
      ],
      "source": [
        "if 'Science' in lst1:\n",
        "  print(\"Present\")"
      ]
    },
    {
      "cell_type": "code",
      "execution_count": null,
      "metadata": {
        "colab": {
          "base_uri": "https://localhost:8080/"
        },
        "id": "DxB6Dkdpypv0",
        "outputId": "8301fbfa-8478-4b9f-9bac-2d7685f393c7"
      },
      "outputs": [
        {
          "output_type": "stream",
          "name": "stdout",
          "text": [
            "Science\n"
          ]
        }
      ],
      "source": [
        "for element in lst1:\n",
        "  if element == \"Science\":\n",
        "    print(element)\n",
        "    break"
      ]
    },
    {
      "cell_type": "markdown",
      "metadata": {
        "id": "GWfsgOO81S2_"
      },
      "source": [
        "Checking element inside the list"
      ]
    },
    {
      "cell_type": "code",
      "execution_count": null,
      "metadata": {
        "colab": {
          "base_uri": "https://localhost:8080/"
        },
        "id": "UzANROwW1IbB",
        "outputId": "a7a0c029-31c9-4a08-8707-f99c84adcdfc"
      },
      "outputs": [
        {
          "output_type": "execute_result",
          "data": {
            "text/plain": [
              "True"
            ]
          },
          "metadata": {},
          "execution_count": 103
        }
      ],
      "source": [
        "'PW' in lst1"
      ]
    },
    {
      "cell_type": "code",
      "execution_count": null,
      "metadata": {
        "colab": {
          "base_uri": "https://localhost:8080/"
        },
        "id": "R5p2wRtz1YFj",
        "outputId": "756d7177-c1db-4cf1-ead9-d111f87e62a6"
      },
      "outputs": [
        {
          "output_type": "execute_result",
          "data": {
            "text/plain": [
              "True"
            ]
          },
          "metadata": {},
          "execution_count": 104
        }
      ],
      "source": [
        "lst4 = [1,2,3,4,5,6]\n",
        "4 in lst4"
      ]
    },
    {
      "cell_type": "code",
      "execution_count": null,
      "metadata": {
        "id": "lm8kPIyE1cCB"
      },
      "outputs": [],
      "source": [
        "lst4 = [\"Zebra\", \"Monkey\",\"Donkey\",\"Lion\"]\n",
        "lst5 = [5,6,3,65,8,4,5,6,9]"
      ]
    },
    {
      "cell_type": "code",
      "execution_count": null,
      "metadata": {
        "colab": {
          "base_uri": "https://localhost:8080/"
        },
        "id": "37ilT32o2ihd",
        "outputId": "56bbfce5-1147-488b-c82a-a1444863b8bd"
      },
      "outputs": [
        {
          "output_type": "stream",
          "name": "stdout",
          "text": [
            "65\n"
          ]
        }
      ],
      "source": [
        "print(max(lst5))"
      ]
    },
    {
      "cell_type": "code",
      "execution_count": null,
      "metadata": {
        "colab": {
          "base_uri": "https://localhost:8080/"
        },
        "id": "0bv6U39m2lAC",
        "outputId": "8d7b6957-ba57-4549-cbea-832dd002461c"
      },
      "outputs": [
        {
          "output_type": "stream",
          "name": "stdout",
          "text": [
            "Zebra\n"
          ]
        }
      ],
      "source": [
        "print(max(lst4)) #zebra"
      ]
    },
    {
      "cell_type": "code",
      "execution_count": null,
      "metadata": {
        "colab": {
          "base_uri": "https://localhost:8080/",
          "height": 35
        },
        "id": "xZwlNoYy2qdd",
        "outputId": "9b577d7c-b74a-4e0a-b3d1-ea5d2aa992be"
      },
      "outputs": [
        {
          "output_type": "execute_result",
          "data": {
            "text/plain": [
              "'Donkey'"
            ],
            "application/vnd.google.colaboratory.intrinsic+json": {
              "type": "string"
            }
          },
          "metadata": {},
          "execution_count": 108
        }
      ],
      "source": [
        "min(lst4)"
      ]
    },
    {
      "cell_type": "code",
      "execution_count": null,
      "metadata": {
        "colab": {
          "base_uri": "https://localhost:8080/"
        },
        "id": "N-0e9ZtM4rDq",
        "outputId": "db66a8be-ef24-443e-d73f-6b248b6164ef"
      },
      "outputs": [
        {
          "output_type": "execute_result",
          "data": {
            "text/plain": [
              "3"
            ]
          },
          "metadata": {},
          "execution_count": 109
        }
      ],
      "source": [
        "min(lst5)"
      ]
    },
    {
      "cell_type": "code",
      "execution_count": null,
      "metadata": {
        "colab": {
          "base_uri": "https://localhost:8080/"
        },
        "id": "-dsvHxya4sHj",
        "outputId": "60aa5879-d873-42f7-d24e-11725c606e7a"
      },
      "outputs": [
        {
          "output_type": "execute_result",
          "data": {
            "text/plain": [
              "str"
            ]
          },
          "metadata": {},
          "execution_count": 110
        }
      ],
      "source": [
        "type(lst4[0])"
      ]
    },
    {
      "cell_type": "code",
      "execution_count": null,
      "metadata": {
        "colab": {
          "base_uri": "https://localhost:8080/"
        },
        "id": "KzPRS0ofuwKw",
        "outputId": "c1ffe543-c0d4-42cd-db5b-b369d556bb72"
      },
      "outputs": [
        {
          "output_type": "execute_result",
          "data": {
            "text/plain": [
              "list"
            ]
          },
          "metadata": {},
          "execution_count": 111
        }
      ],
      "source": [
        "type(lst4)"
      ]
    },
    {
      "cell_type": "code",
      "execution_count": null,
      "metadata": {
        "colab": {
          "base_uri": "https://localhost:8080/"
        },
        "id": "PVVP6FuHuyIp",
        "outputId": "fa664699-3725-4aff-d0fc-4a8634c8e067"
      },
      "outputs": [
        {
          "output_type": "execute_result",
          "data": {
            "text/plain": [
              "float"
            ]
          },
          "metadata": {},
          "execution_count": 112
        }
      ],
      "source": [
        "type(5.0)"
      ]
    },
    {
      "cell_type": "code",
      "execution_count": null,
      "metadata": {
        "colab": {
          "base_uri": "https://localhost:8080/"
        },
        "id": "pFbIJtM-u2Ma",
        "outputId": "3ec3d2da-c15e-4bbe-d32a-f8ccc4b8d5db"
      },
      "outputs": [
        {
          "output_type": "execute_result",
          "data": {
            "text/plain": [
              "True"
            ]
          },
          "metadata": {},
          "execution_count": 113
        }
      ],
      "source": [
        "5.0 in lst5"
      ]
    },
    {
      "cell_type": "code",
      "execution_count": null,
      "metadata": {
        "colab": {
          "base_uri": "https://localhost:8080/"
        },
        "id": "eEpmBzCKu4Oz",
        "outputId": "34bb4479-ab48-4650-8feb-e01373c5d949"
      },
      "outputs": [
        {
          "output_type": "execute_result",
          "data": {
            "text/plain": [
              "False"
            ]
          },
          "metadata": {},
          "execution_count": 114
        }
      ],
      "source": [
        "1.999999999999999 in [2,4,5]"
      ]
    },
    {
      "cell_type": "code",
      "execution_count": null,
      "metadata": {
        "colab": {
          "base_uri": "https://localhost:8080/"
        },
        "id": "8sHKPYak_zns",
        "outputId": "fb61720e-a2f7-4c81-e202-2a9702be6f51"
      },
      "outputs": [
        {
          "output_type": "execute_result",
          "data": {
            "text/plain": [
              "True"
            ]
          },
          "metadata": {},
          "execution_count": 115
        }
      ],
      "source": [
        "5 == 5.0"
      ]
    },
    {
      "cell_type": "markdown",
      "metadata": {
        "id": "sFPTSu4pAOwe"
      },
      "source": [
        "#### **Append**\n",
        "\n",
        "in place operation\n",
        "\n",
        "Element is appended at the last position\n",
        "\n",
        "Making direct changes in the original list as it is a inplace operation"
      ]
    },
    {
      "cell_type": "code",
      "execution_count": null,
      "metadata": {
        "colab": {
          "base_uri": "https://localhost:8080/"
        },
        "id": "YVMCr_sH_-eF",
        "outputId": "c4e4c769-c61b-4f15-da09-c903a3e4879c"
      },
      "outputs": [
        {
          "output_type": "execute_result",
          "data": {
            "text/plain": [
              "['Zebra', 'Monkey', 'Donkey', 'Lion']"
            ]
          },
          "metadata": {},
          "execution_count": 116
        }
      ],
      "source": [
        "lst4"
      ]
    },
    {
      "cell_type": "code",
      "execution_count": null,
      "metadata": {
        "colab": {
          "base_uri": "https://localhost:8080/"
        },
        "id": "5Z7phX_sAXZ4",
        "outputId": "0d748379-74bc-4662-ea1c-ce4233de3e63"
      },
      "outputs": [
        {
          "output_type": "execute_result",
          "data": {
            "text/plain": [
              "[5, 6, 3, 65, 8, 4, 5, 6, 9]"
            ]
          },
          "metadata": {},
          "execution_count": 117
        }
      ],
      "source": [
        "lst5"
      ]
    },
    {
      "cell_type": "code",
      "execution_count": null,
      "metadata": {
        "id": "CsPBb_shAY6l"
      },
      "outputs": [],
      "source": [
        "lst5.append(\"PW Skills\")"
      ]
    },
    {
      "cell_type": "code",
      "execution_count": null,
      "metadata": {
        "colab": {
          "base_uri": "https://localhost:8080/"
        },
        "id": "GiWbpDP7Acl5",
        "outputId": "c90d2559-7694-4b20-ef8f-aa587f995f59"
      },
      "outputs": [
        {
          "output_type": "execute_result",
          "data": {
            "text/plain": [
              "[5, 6, 3, 65, 8, 4, 5, 6, 9, 'PW Skills']"
            ]
          },
          "metadata": {},
          "execution_count": 119
        }
      ],
      "source": [
        "lst5"
      ]
    },
    {
      "cell_type": "code",
      "execution_count": null,
      "metadata": {
        "id": "_hTnQyP2Ado0"
      },
      "outputs": [],
      "source": [
        "lst5.append(lst4)"
      ]
    },
    {
      "cell_type": "code",
      "execution_count": null,
      "metadata": {
        "colab": {
          "base_uri": "https://localhost:8080/"
        },
        "id": "A3EmoisWA1XJ",
        "outputId": "f83ebb28-7557-452c-c2ad-426a43915a02"
      },
      "outputs": [
        {
          "output_type": "stream",
          "name": "stdout",
          "text": [
            "[5, 6, 3, 65, 8, 4, 5, 6, 9, 'PW Skills', ['Zebra', 'Monkey', 'Donkey', 'Lion']]\n"
          ]
        }
      ],
      "source": [
        "print(lst5)  #this will gives a nested list"
      ]
    },
    {
      "cell_type": "code",
      "execution_count": null,
      "metadata": {
        "id": "bp0wY2u3A2o9",
        "colab": {
          "base_uri": "https://localhost:8080/"
        },
        "outputId": "3206738b-592d-4d42-e456-5f86e2286d92"
      },
      "outputs": [
        {
          "output_type": "execute_result",
          "data": {
            "text/plain": [
              "['Zebra', 'Monkey', 'Donkey', 'Lion']"
            ]
          },
          "metadata": {},
          "execution_count": 122
        }
      ],
      "source": [
        "lst4"
      ]
    },
    {
      "cell_type": "code",
      "source": [
        "lst4.append(\"PW Skills\")"
      ],
      "metadata": {
        "id": "Ot7KpCrR0Gar"
      },
      "execution_count": null,
      "outputs": []
    },
    {
      "cell_type": "code",
      "source": [
        "lst4 #inplace operation"
      ],
      "metadata": {
        "colab": {
          "base_uri": "https://localhost:8080/"
        },
        "id": "U3iPr4l80MCi",
        "outputId": "9dde9352-96d5-4486-b801-cf0787ac521a"
      },
      "execution_count": null,
      "outputs": [
        {
          "output_type": "execute_result",
          "data": {
            "text/plain": [
              "['Zebra', 'Monkey', 'Donkey', 'Lion', 'PW Skills']"
            ]
          },
          "metadata": {},
          "execution_count": 124
        }
      ]
    },
    {
      "cell_type": "markdown",
      "source": [
        "We can append anything in the list using above append function or method of list"
      ],
      "metadata": {
        "id": "6YntURNX0aDH"
      }
    },
    {
      "cell_type": "code",
      "source": [
        "lst4"
      ],
      "metadata": {
        "colab": {
          "base_uri": "https://localhost:8080/"
        },
        "id": "XoORWXlM0M6b",
        "outputId": "35ae38bc-01d8-4a11-81b8-51e0e9ad8a37"
      },
      "execution_count": null,
      "outputs": [
        {
          "output_type": "execute_result",
          "data": {
            "text/plain": [
              "['Zebra', 'Monkey', 'Donkey', 'Lion', 'PW Skills']"
            ]
          },
          "metadata": {},
          "execution_count": 125
        }
      ]
    },
    {
      "cell_type": "markdown",
      "source": [
        "### pop() method\n",
        "\n",
        "Inplace operation\n",
        "\n",
        "By default removes or returns the element at the index -1\n",
        "\n",
        "Also removes or returs the element with given index."
      ],
      "metadata": {
        "id": "AYkKlZzL0zXh"
      }
    },
    {
      "cell_type": "code",
      "source": [
        "#let use pop on lst4\n",
        "lst4.pop()"
      ],
      "metadata": {
        "colab": {
          "base_uri": "https://localhost:8080/",
          "height": 35
        },
        "id": "WoshnAMs0uy6",
        "outputId": "0a032020-ddb2-4efb-afd0-64d1f81fa7d7"
      },
      "execution_count": null,
      "outputs": [
        {
          "output_type": "execute_result",
          "data": {
            "text/plain": [
              "'PW Skills'"
            ],
            "application/vnd.google.colaboratory.intrinsic+json": {
              "type": "string"
            }
          },
          "metadata": {},
          "execution_count": 126
        }
      ]
    },
    {
      "cell_type": "code",
      "source": [
        "#inplace opeation makes changes to the ogirinal list\n",
        "lst4"
      ],
      "metadata": {
        "colab": {
          "base_uri": "https://localhost:8080/"
        },
        "id": "4ZgUCtXi1PBY",
        "outputId": "3c56061a-8d7e-4cb0-9876-e5966d714d9f"
      },
      "execution_count": null,
      "outputs": [
        {
          "output_type": "execute_result",
          "data": {
            "text/plain": [
              "['Zebra', 'Monkey', 'Donkey', 'Lion']"
            ]
          },
          "metadata": {},
          "execution_count": 127
        }
      ]
    },
    {
      "cell_type": "code",
      "source": [
        "lst4.pop()"
      ],
      "metadata": {
        "colab": {
          "base_uri": "https://localhost:8080/",
          "height": 35
        },
        "id": "rPlepeC31VBR",
        "outputId": "6f500abb-67af-4690-efbd-01bac5364d71"
      },
      "execution_count": null,
      "outputs": [
        {
          "output_type": "execute_result",
          "data": {
            "text/plain": [
              "'Lion'"
            ],
            "application/vnd.google.colaboratory.intrinsic+json": {
              "type": "string"
            }
          },
          "metadata": {},
          "execution_count": 128
        }
      ]
    },
    {
      "cell_type": "code",
      "source": [
        "#lets remove the element at the particular index\n",
        "\n",
        "lst4.pop(2)"
      ],
      "metadata": {
        "colab": {
          "base_uri": "https://localhost:8080/",
          "height": 35
        },
        "id": "ApI3tlvj1bmS",
        "outputId": "d2b66e22-a298-4844-d75f-e87d03f137dc"
      },
      "execution_count": null,
      "outputs": [
        {
          "output_type": "execute_result",
          "data": {
            "text/plain": [
              "'Donkey'"
            ],
            "application/vnd.google.colaboratory.intrinsic+json": {
              "type": "string"
            }
          },
          "metadata": {},
          "execution_count": 129
        }
      ]
    },
    {
      "cell_type": "code",
      "source": [
        "#lets save the popped or removed element into some another variable\n",
        "\n",
        "removed_element = lst4.pop(2)"
      ],
      "metadata": {
        "colab": {
          "base_uri": "https://localhost:8080/",
          "height": 176
        },
        "id": "Ah_JYec91jv5",
        "outputId": "45120327-3281-4a7e-d3fe-6fb6d94dee25"
      },
      "execution_count": null,
      "outputs": [
        {
          "output_type": "error",
          "ename": "IndexError",
          "evalue": "pop index out of range",
          "traceback": [
            "\u001b[0;31m---------------------------------------------------------------------------\u001b[0m",
            "\u001b[0;31mIndexError\u001b[0m                                Traceback (most recent call last)",
            "\u001b[0;32m<ipython-input-130-39eaa56f1415>\u001b[0m in \u001b[0;36m<cell line: 3>\u001b[0;34m()\u001b[0m\n\u001b[1;32m      1\u001b[0m \u001b[0;31m#lets save the popped or removed element into some another variable\u001b[0m\u001b[0;34m\u001b[0m\u001b[0;34m\u001b[0m\u001b[0m\n\u001b[1;32m      2\u001b[0m \u001b[0;34m\u001b[0m\u001b[0m\n\u001b[0;32m----> 3\u001b[0;31m \u001b[0mremoved_element\u001b[0m \u001b[0;34m=\u001b[0m \u001b[0mlst4\u001b[0m\u001b[0;34m.\u001b[0m\u001b[0mpop\u001b[0m\u001b[0;34m(\u001b[0m\u001b[0;36m2\u001b[0m\u001b[0;34m)\u001b[0m\u001b[0;34m\u001b[0m\u001b[0;34m\u001b[0m\u001b[0m\n\u001b[0m",
            "\u001b[0;31mIndexError\u001b[0m: pop index out of range"
          ]
        }
      ]
    },
    {
      "cell_type": "code",
      "source": [
        "removed_element"
      ],
      "metadata": {
        "id": "FOVk56ZU2Lox"
      },
      "execution_count": null,
      "outputs": []
    },
    {
      "cell_type": "code",
      "source": [
        "lst4[100]"
      ],
      "metadata": {
        "id": "xK7Xq-DF2OPD"
      },
      "execution_count": null,
      "outputs": []
    },
    {
      "cell_type": "code",
      "source": [
        "new_list = ['q','e','f','s','t','u']"
      ],
      "metadata": {
        "id": "Hemw-MMQ32MY"
      },
      "execution_count": null,
      "outputs": []
    },
    {
      "cell_type": "code",
      "source": [
        "new_list"
      ],
      "metadata": {
        "colab": {
          "base_uri": "https://localhost:8080/",
          "height": 141
        },
        "id": "peEy2h4g7sU6",
        "outputId": "5980c70d-5f60-4802-974a-bf2bf5757c55"
      },
      "execution_count": null,
      "outputs": [
        {
          "output_type": "error",
          "ename": "NameError",
          "evalue": "name 'new_list' is not defined",
          "traceback": [
            "\u001b[0;31m---------------------------------------------------------------------------\u001b[0m",
            "\u001b[0;31mNameError\u001b[0m                                 Traceback (most recent call last)",
            "\u001b[0;32m<ipython-input-131-8a9015be32e7>\u001b[0m in \u001b[0;36m<cell line: 1>\u001b[0;34m()\u001b[0m\n\u001b[0;32m----> 1\u001b[0;31m \u001b[0mnew_list\u001b[0m\u001b[0;34m\u001b[0m\u001b[0;34m\u001b[0m\u001b[0m\n\u001b[0m",
            "\u001b[0;31mNameError\u001b[0m: name 'new_list' is not defined"
          ]
        }
      ]
    },
    {
      "cell_type": "code",
      "source": [
        "#reversing the list\n",
        "\n",
        "new_list[::-1]"
      ],
      "metadata": {
        "id": "aEqJnyzr70qC"
      },
      "execution_count": null,
      "outputs": []
    },
    {
      "cell_type": "code",
      "source": [
        "new_list  #newlist is still not changes"
      ],
      "metadata": {
        "id": "2-rSP9y8778C"
      },
      "execution_count": null,
      "outputs": []
    },
    {
      "cell_type": "markdown",
      "source": [
        "#### reverse() method\n",
        "\n",
        "inplace operation method\n",
        "\n",
        "returns the reversed list in the place origianl list"
      ],
      "metadata": {
        "id": "2G_istLB8xTZ"
      }
    },
    {
      "cell_type": "code",
      "source": [
        "new_list.reverse()"
      ],
      "metadata": {
        "colab": {
          "base_uri": "https://localhost:8080/",
          "height": 141
        },
        "id": "GyRjHNRb8iu0",
        "outputId": "8c4611d0-f641-43e9-84b4-a2d0ec394292"
      },
      "execution_count": null,
      "outputs": [
        {
          "output_type": "error",
          "ename": "NameError",
          "evalue": "name 'new_list' is not defined",
          "traceback": [
            "\u001b[0;31m---------------------------------------------------------------------------\u001b[0m",
            "\u001b[0;31mNameError\u001b[0m                                 Traceback (most recent call last)",
            "\u001b[0;32m<ipython-input-132-ddcf55b9a88c>\u001b[0m in \u001b[0;36m<cell line: 1>\u001b[0;34m()\u001b[0m\n\u001b[0;32m----> 1\u001b[0;31m \u001b[0mnew_list\u001b[0m\u001b[0;34m.\u001b[0m\u001b[0mreverse\u001b[0m\u001b[0;34m(\u001b[0m\u001b[0;34m)\u001b[0m\u001b[0;34m\u001b[0m\u001b[0;34m\u001b[0m\u001b[0m\n\u001b[0m",
            "\u001b[0;31mNameError\u001b[0m: name 'new_list' is not defined"
          ]
        }
      ]
    },
    {
      "cell_type": "code",
      "source": [
        "new_list"
      ],
      "metadata": {
        "id": "knwefoan8u47"
      },
      "execution_count": null,
      "outputs": []
    },
    {
      "cell_type": "markdown",
      "source": [
        "#### sort() method\n",
        "\n",
        "inplace operation\n",
        "\n",
        "by default in ascending order"
      ],
      "metadata": {
        "id": "z-NHPx_I90Tp"
      }
    },
    {
      "cell_type": "code",
      "source": [
        "new_list.sort()"
      ],
      "metadata": {
        "id": "OEoYJa8S9Ii8"
      },
      "execution_count": null,
      "outputs": []
    },
    {
      "cell_type": "code",
      "source": [
        "new_list\n"
      ],
      "metadata": {
        "colab": {
          "base_uri": "https://localhost:8080/",
          "height": 141
        },
        "id": "G876nV53-NuC",
        "outputId": "2bce3f96-17e9-47e7-f900-2908a9a7c766"
      },
      "execution_count": null,
      "outputs": [
        {
          "output_type": "error",
          "ename": "NameError",
          "evalue": "name 'new_list' is not defined",
          "traceback": [
            "\u001b[0;31m---------------------------------------------------------------------------\u001b[0m",
            "\u001b[0;31mNameError\u001b[0m                                 Traceback (most recent call last)",
            "\u001b[0;32m<ipython-input-133-8a9015be32e7>\u001b[0m in \u001b[0;36m<cell line: 1>\u001b[0;34m()\u001b[0m\n\u001b[0;32m----> 1\u001b[0;31m \u001b[0mnew_list\u001b[0m\u001b[0;34m\u001b[0m\u001b[0;34m\u001b[0m\u001b[0m\n\u001b[0m",
            "\u001b[0;31mNameError\u001b[0m: name 'new_list' is not defined"
          ]
        }
      ]
    },
    {
      "cell_type": "code",
      "source": [
        "#adding element at the end of the list\n",
        "lst1 = [1,2,3,4,5,6]\n",
        "lst1.append(10)"
      ],
      "metadata": {
        "id": "pNoZLTAs_EN-"
      },
      "execution_count": null,
      "outputs": []
    },
    {
      "cell_type": "code",
      "source": [
        "lst1"
      ],
      "metadata": {
        "colab": {
          "base_uri": "https://localhost:8080/"
        },
        "id": "_aUNk-QOBI-k",
        "outputId": "d3c1ab12-6a84-4870-fff9-a3f5009762d3"
      },
      "execution_count": null,
      "outputs": [
        {
          "output_type": "execute_result",
          "data": {
            "text/plain": [
              "[1, 2, 3, 4, 5, 6, 10]"
            ]
          },
          "metadata": {},
          "execution_count": 136
        }
      ]
    },
    {
      "cell_type": "code",
      "source": [
        "lst2 = [2,76,34,87,34,99, 43]"
      ],
      "metadata": {
        "id": "XIc8hwLDBJAU"
      },
      "execution_count": null,
      "outputs": []
    },
    {
      "cell_type": "code",
      "source": [
        "lst2.sort()"
      ],
      "metadata": {
        "id": "ysvyBkgEBJB0"
      },
      "execution_count": null,
      "outputs": []
    },
    {
      "cell_type": "code",
      "source": [
        "lst2 #default it will arrange in ascending order"
      ],
      "metadata": {
        "colab": {
          "base_uri": "https://localhost:8080/"
        },
        "id": "7OJDmnULBJDr",
        "outputId": "1bb4a23d-f868-40ce-c1ac-c4b80382c7a6"
      },
      "execution_count": null,
      "outputs": [
        {
          "output_type": "execute_result",
          "data": {
            "text/plain": [
              "[2, 34, 34, 43, 76, 87, 99]"
            ]
          },
          "metadata": {},
          "execution_count": 139
        }
      ]
    },
    {
      "cell_type": "code",
      "source": [
        "lst2.sort(reverse = True)  #for descending order reverse=True"
      ],
      "metadata": {
        "id": "KNIJ4G_aBtfZ"
      },
      "execution_count": null,
      "outputs": []
    },
    {
      "cell_type": "code",
      "source": [
        "lst2"
      ],
      "metadata": {
        "colab": {
          "base_uri": "https://localhost:8080/"
        },
        "id": "17QC4dq2BJG2",
        "outputId": "b74b4cdf-2656-47ee-c33b-65ef15fea349"
      },
      "execution_count": null,
      "outputs": [
        {
          "output_type": "execute_result",
          "data": {
            "text/plain": [
              "[99, 87, 76, 43, 34, 34, 2]"
            ]
          },
          "metadata": {},
          "execution_count": 141
        }
      ]
    },
    {
      "cell_type": "code",
      "source": [
        "lst1.append(['PW', 'Skiils'])"
      ],
      "metadata": {
        "id": "LT4-gVOJ_5KY"
      },
      "execution_count": null,
      "outputs": []
    },
    {
      "cell_type": "code",
      "source": [
        "lst1"
      ],
      "metadata": {
        "colab": {
          "base_uri": "https://localhost:8080/"
        },
        "id": "ZHkbMxRN_5U9",
        "outputId": "df718a18-c17a-40b1-e12e-3e79b01446ec"
      },
      "execution_count": null,
      "outputs": [
        {
          "output_type": "execute_result",
          "data": {
            "text/plain": [
              "[1, 2, 3, 4, 5, 6, 10, ['PW', 'Skiils']]"
            ]
          },
          "metadata": {},
          "execution_count": 143
        }
      ]
    },
    {
      "cell_type": "markdown",
      "source": [
        "#### .extend() method\n",
        "\n",
        "in place operation\n",
        "\n",
        "In above append method we can't add more than one element at a time\n",
        "\n",
        "So we have extend() method for this purpose"
      ],
      "metadata": {
        "id": "TeI95erBAWrO"
      }
    },
    {
      "cell_type": "code",
      "source": [
        "lst1.extend(['PW','Skills'])"
      ],
      "metadata": {
        "id": "qVUO7-mx_5b9"
      },
      "execution_count": null,
      "outputs": []
    },
    {
      "cell_type": "code",
      "source": [
        "lst1"
      ],
      "metadata": {
        "colab": {
          "base_uri": "https://localhost:8080/"
        },
        "id": "Kfjb5cFeAtzm",
        "outputId": "5759d2c6-ac76-4c22-cd1a-3d82d0033fa8"
      },
      "execution_count": null,
      "outputs": [
        {
          "output_type": "execute_result",
          "data": {
            "text/plain": [
              "[1, 2, 3, 4, 5, 6, 10, ['PW', 'Skiils'], 'PW', 'Skills']"
            ]
          },
          "metadata": {},
          "execution_count": 145
        }
      ]
    },
    {
      "cell_type": "markdown",
      "source": [
        "## **Nested list**\n",
        "\n",
        "list within a list"
      ],
      "metadata": {
        "id": "2iRzqgBl-rXK"
      }
    },
    {
      "cell_type": "code",
      "source": [
        "#let's make the three lists\n",
        "lst_1 = [1,2,3]\n",
        "lst_2 = [4,5,6]\n",
        "lst_3 = [7,8,9]\n",
        "\n",
        "#let's make the list of lists to form a matrix\n",
        "\n",
        "matrix = [lst_1,lst_2,lst_3]"
      ],
      "metadata": {
        "id": "7LNf_YFU-QJb"
      },
      "execution_count": null,
      "outputs": []
    },
    {
      "cell_type": "code",
      "source": [
        "matrix"
      ],
      "metadata": {
        "colab": {
          "base_uri": "https://localhost:8080/"
        },
        "id": "q-AJWgwYC_49",
        "outputId": "810c6d12-ace6-4e3f-e4e2-f114da43d6db"
      },
      "execution_count": null,
      "outputs": [
        {
          "output_type": "execute_result",
          "data": {
            "text/plain": [
              "[[1, 2, 3], [4, 5, 6], [7, 8, 9]]"
            ]
          },
          "metadata": {},
          "execution_count": 147
        }
      ]
    },
    {
      "cell_type": "code",
      "source": [
        "matrix[0]"
      ],
      "metadata": {
        "colab": {
          "base_uri": "https://localhost:8080/"
        },
        "id": "pdXhK16EDCXu",
        "outputId": "1f4c38ff-76f0-4272-d977-e44aa66cd1b3"
      },
      "execution_count": null,
      "outputs": [
        {
          "output_type": "execute_result",
          "data": {
            "text/plain": [
              "[1, 2, 3]"
            ]
          },
          "metadata": {},
          "execution_count": 148
        }
      ]
    },
    {
      "cell_type": "code",
      "source": [
        "matrix[1][2]"
      ],
      "metadata": {
        "colab": {
          "base_uri": "https://localhost:8080/"
        },
        "id": "zbGRxyfnHn7n",
        "outputId": "f519c8d0-2951-4d7f-c497-04f4e851bb96"
      },
      "execution_count": null,
      "outputs": [
        {
          "output_type": "execute_result",
          "data": {
            "text/plain": [
              "6"
            ]
          },
          "metadata": {},
          "execution_count": 149
        }
      ]
    },
    {
      "cell_type": "code",
      "source": [
        "#let's fetch the 9 number\n",
        "matrix[2][2]"
      ],
      "metadata": {
        "colab": {
          "base_uri": "https://localhost:8080/"
        },
        "id": "ByMhrxF-HrUQ",
        "outputId": "89eff037-c904-4e31-9d11-e75741b0558f"
      },
      "execution_count": null,
      "outputs": [
        {
          "output_type": "execute_result",
          "data": {
            "text/plain": [
              "9"
            ]
          },
          "metadata": {},
          "execution_count": 150
        }
      ]
    },
    {
      "cell_type": "code",
      "source": [
        "#fetch the number 6\n",
        "matrix[1][2]"
      ],
      "metadata": {
        "colab": {
          "base_uri": "https://localhost:8080/"
        },
        "id": "QyB0Wm9oIGtA",
        "outputId": "b0f9c6e5-5ce9-49e2-97b2-d20c318d0202"
      },
      "execution_count": null,
      "outputs": [
        {
          "output_type": "execute_result",
          "data": {
            "text/plain": [
              "6"
            ]
          },
          "metadata": {},
          "execution_count": 151
        }
      ]
    },
    {
      "cell_type": "code",
      "source": [
        "#get [5,6]\n",
        "matrix[1][1:]"
      ],
      "metadata": {
        "colab": {
          "base_uri": "https://localhost:8080/"
        },
        "id": "h5GVfJ1qIPdn",
        "outputId": "bbc9d7cb-e9e1-40b8-8162-f70132982d39"
      },
      "execution_count": null,
      "outputs": [
        {
          "output_type": "execute_result",
          "data": {
            "text/plain": [
              "[5, 6]"
            ]
          },
          "metadata": {},
          "execution_count": 152
        }
      ]
    },
    {
      "cell_type": "code",
      "source": [
        "#get [7,8]\n",
        "\n",
        "matrix[2][:2]"
      ],
      "metadata": {
        "colab": {
          "base_uri": "https://localhost:8080/"
        },
        "id": "iWwF2yDqI1DP",
        "outputId": "01b595f4-ed90-4148-a015-f3d006ea7cef"
      },
      "execution_count": null,
      "outputs": [
        {
          "output_type": "execute_result",
          "data": {
            "text/plain": [
              "[7, 8]"
            ]
          },
          "metadata": {},
          "execution_count": 153
        }
      ]
    },
    {
      "cell_type": "code",
      "source": [
        "#print 1,4,7 #this isnot the answer\n",
        "# It will be done in numpy array\n",
        "for element in matrix:\n",
        "  print(element[0])"
      ],
      "metadata": {
        "colab": {
          "base_uri": "https://localhost:8080/"
        },
        "id": "-BcuqSmjI-FP",
        "outputId": "d9bc2708-635d-4ebe-a7aa-9656a39ec48c"
      },
      "execution_count": null,
      "outputs": [
        {
          "output_type": "stream",
          "name": "stdout",
          "text": [
            "1\n",
            "4\n",
            "7\n"
          ]
        }
      ]
    },
    {
      "cell_type": "code",
      "source": [
        "matrix[:]"
      ],
      "metadata": {
        "colab": {
          "base_uri": "https://localhost:8080/"
        },
        "id": "B_q-wIWuJ4k-",
        "outputId": "f01c51e1-a3dc-4f28-ec07-904a1327f4ed"
      },
      "execution_count": null,
      "outputs": [
        {
          "output_type": "execute_result",
          "data": {
            "text/plain": [
              "[[1, 2, 3], [4, 5, 6], [7, 8, 9]]"
            ]
          },
          "metadata": {},
          "execution_count": 155
        }
      ]
    },
    {
      "cell_type": "code",
      "source": [
        "matrix[0:][0]"
      ],
      "metadata": {
        "colab": {
          "base_uri": "https://localhost:8080/"
        },
        "id": "pBBNttd0KCZF",
        "outputId": "60121720-5ab3-4afe-9229-d2906c7a7725"
      },
      "execution_count": null,
      "outputs": [
        {
          "output_type": "execute_result",
          "data": {
            "text/plain": [
              "[1, 2, 3]"
            ]
          },
          "metadata": {},
          "execution_count": 156
        }
      ]
    },
    {
      "cell_type": "markdown",
      "source": [
        "## **List Comprehension**\n",
        "\n",
        "We get list as an output here\n"
      ],
      "metadata": {
        "id": "Q0vOfVHWMFfS"
      }
    },
    {
      "cell_type": "code",
      "source": [
        "[i for i in range(20) ]"
      ],
      "metadata": {
        "colab": {
          "base_uri": "https://localhost:8080/"
        },
        "id": "yV1KsVZlLqlN",
        "outputId": "efa0c1fa-81e6-41ff-92f0-7f7205d120fd"
      },
      "execution_count": null,
      "outputs": [
        {
          "output_type": "execute_result",
          "data": {
            "text/plain": [
              "[0, 1, 2, 3, 4, 5, 6, 7, 8, 9, 10, 11, 12, 13, 14, 15, 16, 17, 18, 19]"
            ]
          },
          "metadata": {},
          "execution_count": 157
        }
      ]
    },
    {
      "cell_type": "code",
      "source": [
        "#make list of squares upto 10\n",
        "\n",
        "[i*i for i in range(11)]"
      ],
      "metadata": {
        "colab": {
          "base_uri": "https://localhost:8080/"
        },
        "id": "4nsmYdQUMW0O",
        "outputId": "407ddfff-3d77-4350-f230-4ce118e19179"
      },
      "execution_count": null,
      "outputs": [
        {
          "output_type": "execute_result",
          "data": {
            "text/plain": [
              "[0, 1, 4, 9, 16, 25, 36, 49, 64, 81, 100]"
            ]
          },
          "metadata": {},
          "execution_count": 158
        }
      ]
    },
    {
      "cell_type": "code",
      "source": [
        "#list comprehension\n",
        "#list of even numbers\n",
        "[i for i in range(20) if i%2 == 0 ]"
      ],
      "metadata": {
        "colab": {
          "base_uri": "https://localhost:8080/"
        },
        "id": "XZZKbyvzM3Jl",
        "outputId": "1b73d1c7-244f-405c-a657-f71b1e2dafd8"
      },
      "execution_count": null,
      "outputs": [
        {
          "output_type": "execute_result",
          "data": {
            "text/plain": [
              "[0, 2, 4, 6, 8, 10, 12, 14, 16, 18]"
            ]
          },
          "metadata": {},
          "execution_count": 159
        }
      ]
    },
    {
      "cell_type": "code",
      "source": [
        "[i if i % 2 == 0 else \"ODD\" for i in range(20) ]"
      ],
      "metadata": {
        "colab": {
          "base_uri": "https://localhost:8080/"
        },
        "id": "tJ_BUOk0NNq1",
        "outputId": "2797737b-66aa-4c31-ef11-715845597ae5"
      },
      "execution_count": null,
      "outputs": [
        {
          "output_type": "execute_result",
          "data": {
            "text/plain": [
              "[0,\n",
              " 'ODD',\n",
              " 2,\n",
              " 'ODD',\n",
              " 4,\n",
              " 'ODD',\n",
              " 6,\n",
              " 'ODD',\n",
              " 8,\n",
              " 'ODD',\n",
              " 10,\n",
              " 'ODD',\n",
              " 12,\n",
              " 'ODD',\n",
              " 14,\n",
              " 'ODD',\n",
              " 16,\n",
              " 'ODD',\n",
              " 18,\n",
              " 'ODD']"
            ]
          },
          "metadata": {},
          "execution_count": 160
        }
      ]
    },
    {
      "cell_type": "code",
      "source": [
        "['Even' if i%2 == 0 else \"Odd\" for i in range(20)]"
      ],
      "metadata": {
        "colab": {
          "base_uri": "https://localhost:8080/"
        },
        "id": "tHlZUmN6NlsL",
        "outputId": "f76b0f14-d9f3-4bd9-d392-e929c6a9603f"
      },
      "execution_count": null,
      "outputs": [
        {
          "output_type": "execute_result",
          "data": {
            "text/plain": [
              "['Even',\n",
              " 'Odd',\n",
              " 'Even',\n",
              " 'Odd',\n",
              " 'Even',\n",
              " 'Odd',\n",
              " 'Even',\n",
              " 'Odd',\n",
              " 'Even',\n",
              " 'Odd',\n",
              " 'Even',\n",
              " 'Odd',\n",
              " 'Even',\n",
              " 'Odd',\n",
              " 'Even',\n",
              " 'Odd',\n",
              " 'Even',\n",
              " 'Odd',\n",
              " 'Even',\n",
              " 'Odd']"
            ]
          },
          "metadata": {},
          "execution_count": 161
        }
      ]
    },
    {
      "cell_type": "code",
      "source": [
        "[i if i%2==0 else \"\" for i in range(20)]"
      ],
      "metadata": {
        "colab": {
          "base_uri": "https://localhost:8080/"
        },
        "id": "XDljmks-OMUk",
        "outputId": "35b921aa-c387-484d-edcc-2d7dbecfa960"
      },
      "execution_count": null,
      "outputs": [
        {
          "output_type": "execute_result",
          "data": {
            "text/plain": [
              "[0, '', 2, '', 4, '', 6, '', 8, '', 10, '', 12, '', 14, '', 16, '', 18, '']"
            ]
          },
          "metadata": {},
          "execution_count": 162
        }
      ]
    },
    {
      "cell_type": "code",
      "source": [
        "#find the summation of even number at one variable and summation of odd numbers at one variable\n",
        "lst = [1,2,3,4,5,6,7,8]\n",
        "lst_even = [i for i in lst if i%2==0 ]\n",
        "lst_odd = [i for i in lst if i%2 != 0]"
      ],
      "metadata": {
        "id": "Shc1wqK6Ovvs"
      },
      "execution_count": null,
      "outputs": []
    },
    {
      "cell_type": "code",
      "source": [
        "print(lst_even, lst_odd)"
      ],
      "metadata": {
        "colab": {
          "base_uri": "https://localhost:8080/"
        },
        "id": "a6x4P5VePXM5",
        "outputId": "cbdc85e7-4c68-4e65-9bd2-73926d1754cb"
      },
      "execution_count": null,
      "outputs": [
        {
          "output_type": "stream",
          "name": "stdout",
          "text": [
            "[2, 4, 6, 8] [1, 3, 5, 7]\n"
          ]
        }
      ]
    },
    {
      "cell_type": "code",
      "source": [
        "lst"
      ],
      "metadata": {
        "colab": {
          "base_uri": "https://localhost:8080/"
        },
        "id": "oCUfN4QBP4_a",
        "outputId": "24b6f655-34bc-4b53-cb2d-b88a209ddb9f"
      },
      "execution_count": null,
      "outputs": [
        {
          "output_type": "execute_result",
          "data": {
            "text/plain": [
              "[1, 2, 3, 4, 5, 6, 7, 8]"
            ]
          },
          "metadata": {},
          "execution_count": 165
        }
      ]
    },
    {
      "cell_type": "code",
      "source": [
        "sum(lst) #sum of number in the list"
      ],
      "metadata": {
        "colab": {
          "base_uri": "https://localhost:8080/"
        },
        "id": "1yG7KplRb8W8",
        "outputId": "7a04ed3d-235a-4706-8450-4441b648364e"
      },
      "execution_count": null,
      "outputs": [
        {
          "output_type": "execute_result",
          "data": {
            "text/plain": [
              "36"
            ]
          },
          "metadata": {},
          "execution_count": 166
        }
      ]
    },
    {
      "cell_type": "code",
      "source": [
        "## Solution for above problem\n",
        "\n",
        "even_sum = 0\n",
        "odd_sum = 0\n",
        "for i in lst:\n",
        "  if i%2 ==0:\n",
        "    even_sum = even_sum + i\n",
        "  else:\n",
        "    odd_sum = odd_sum + i\n",
        "print(\"Sum of even numbers from the list\",even_sum)\n",
        "print(\"Sum of odd numbers from the list\", odd_sum)"
      ],
      "metadata": {
        "colab": {
          "base_uri": "https://localhost:8080/"
        },
        "id": "OPA-NH0NajmH",
        "outputId": "0cd00f96-6adc-433e-c757-53e1eee3d89b"
      },
      "execution_count": null,
      "outputs": [
        {
          "output_type": "stream",
          "name": "stdout",
          "text": [
            "Sum of even numbers from the list 20\n",
            "Sum of odd numbers from the list 16\n"
          ]
        }
      ]
    },
    {
      "cell_type": "code",
      "source": [
        "#using list comprehension\n",
        "even_sum1 = sum([num for num in lst if num%2==0])\n",
        "odd_sum1 = sum([num for num in lst if num%2!=0])"
      ],
      "metadata": {
        "id": "FSY736eza8po"
      },
      "execution_count": null,
      "outputs": []
    },
    {
      "cell_type": "code",
      "source": [
        "print(even_sum1)\n",
        "print(odd_sum1)"
      ],
      "metadata": {
        "colab": {
          "base_uri": "https://localhost:8080/"
        },
        "id": "xBD3CxNbcLIh",
        "outputId": "ce9b7331-5565-4912-b93b-fb852d5f75e7"
      },
      "execution_count": null,
      "outputs": [
        {
          "output_type": "stream",
          "name": "stdout",
          "text": [
            "20\n",
            "16\n"
          ]
        }
      ]
    },
    {
      "cell_type": "code",
      "source": [
        "lst_5 = [i for i in range(1,11)]"
      ],
      "metadata": {
        "id": "a0EISDT7cdOp"
      },
      "execution_count": null,
      "outputs": []
    },
    {
      "cell_type": "code",
      "source": [
        "lst_5"
      ],
      "metadata": {
        "colab": {
          "base_uri": "https://localhost:8080/"
        },
        "id": "v0f4joqx_ndG",
        "outputId": "baabfa2c-3f57-46eb-8cb3-4ff36bb425f5"
      },
      "execution_count": null,
      "outputs": [
        {
          "output_type": "execute_result",
          "data": {
            "text/plain": [
              "[1, 2, 3, 4, 5, 6, 7, 8, 9, 10]"
            ]
          },
          "metadata": {},
          "execution_count": 175
        }
      ]
    },
    {
      "cell_type": "code",
      "source": [
        "#list of squares of the numbers\n",
        "[i**2 for i in lst_5]"
      ],
      "metadata": {
        "colab": {
          "base_uri": "https://localhost:8080/"
        },
        "id": "oS3SKfuy_oW-",
        "outputId": "cf57f995-9485-4b58-9bdc-ce513f3af3d2"
      },
      "execution_count": null,
      "outputs": [
        {
          "output_type": "execute_result",
          "data": {
            "text/plain": [
              "[1, 4, 9, 16, 25, 36, 49, 64, 81, 100]"
            ]
          },
          "metadata": {},
          "execution_count": 177
        }
      ]
    },
    {
      "cell_type": "code",
      "source": [
        "#example :create list of positive numbers from the given list\n",
        "lst_5 = [-2.-1,-3, 0, 3,6,2,7,8]\n",
        "[num for num in lst_5 if num > 0]"
      ],
      "metadata": {
        "colab": {
          "base_uri": "https://localhost:8080/"
        },
        "id": "UlsZQfqx_2Sd",
        "outputId": "359011bb-b1a6-4065-cb28-d8325064ac52"
      },
      "execution_count": null,
      "outputs": [
        {
          "output_type": "execute_result",
          "data": {
            "text/plain": [
              "[3, 6, 2, 7, 8]"
            ]
          },
          "metadata": {},
          "execution_count": 178
        }
      ]
    },
    {
      "cell_type": "code",
      "source": [
        "#Example:Create list of only the first letters of words in a list\n",
        "words = ['Apple','Banana', 'Cherry', 'Date']\n",
        "[word[0] for word in words]"
      ],
      "metadata": {
        "colab": {
          "base_uri": "https://localhost:8080/"
        },
        "id": "HerRVAxZAt7s",
        "outputId": "d669f985-d72f-4d99-84ba-6799add7922a"
      },
      "execution_count": null,
      "outputs": [
        {
          "output_type": "execute_result",
          "data": {
            "text/plain": [
              "['A', 'B', 'C', 'D']"
            ]
          },
          "metadata": {},
          "execution_count": 179
        }
      ]
    },
    {
      "cell_type": "code",
      "source": [
        "#Convert tempreture in celcius\n",
        "#Fahrenheit = (9/5)*temp + 32\n",
        "\n",
        "#Example:Convert the list tempreture in Celcius into Fahrenheit using list comprehension\n",
        "celcius_tempreture = [0, 10, 20, 30, 55, 60]"
      ],
      "metadata": {
        "id": "318x0h0QBWxz"
      },
      "execution_count": null,
      "outputs": []
    },
    {
      "cell_type": "code",
      "source": [
        "fahrenheit_temp = [(((9/5)*temp)+32) for temp in celcius_tempreture ]"
      ],
      "metadata": {
        "id": "VXyXZe_QFezh"
      },
      "execution_count": null,
      "outputs": []
    },
    {
      "cell_type": "code",
      "source": [
        "fahrenheit_temp"
      ],
      "metadata": {
        "colab": {
          "base_uri": "https://localhost:8080/"
        },
        "id": "VBbCK7CaGD_p",
        "outputId": "9abd304f-2861-4184-a260-6ce32e352f61"
      },
      "execution_count": null,
      "outputs": [
        {
          "output_type": "execute_result",
          "data": {
            "text/plain": [
              "[32.0, 50.0, 68.0, 86.0, 131.0, 140.0]"
            ]
          },
          "metadata": {},
          "execution_count": 183
        }
      ]
    },
    {
      "cell_type": "code",
      "source": [
        "#Example : Flatten the list of lists into a single list using list comprehension\n",
        "lists = [[1,2,3],[4,5,6],[7,8,9]]\n",
        "#using indexing\n",
        "\n",
        "[lists[i][j] for i in range(3) for j in range(3)]"
      ],
      "metadata": {
        "colab": {
          "base_uri": "https://localhost:8080/"
        },
        "id": "K-R-eQf6GGZC",
        "outputId": "fff9c8a7-d519-4734-a4f3-e8bb2ae654fe"
      },
      "execution_count": null,
      "outputs": [
        {
          "output_type": "execute_result",
          "data": {
            "text/plain": [
              "[1, 2, 3, 4, 5, 6, 7, 8, 9]"
            ]
          },
          "metadata": {},
          "execution_count": 187
        }
      ]
    },
    {
      "cell_type": "code",
      "source": [
        "#best method because we don't the size list and nested list\n",
        "\n",
        "[j for i in lists for j in i]"
      ],
      "metadata": {
        "colab": {
          "base_uri": "https://localhost:8080/"
        },
        "id": "UY3w6KypMadE",
        "outputId": "434e942c-c5a3-4fa9-ade7-1496910644de"
      },
      "execution_count": null,
      "outputs": [
        {
          "output_type": "execute_result",
          "data": {
            "text/plain": [
              "[1, 2, 3, 4, 5, 6, 7, 8, 9]"
            ]
          },
          "metadata": {},
          "execution_count": 195
        }
      ]
    },
    {
      "cell_type": "code",
      "source": [
        "#"
      ],
      "metadata": {
        "id": "IbyMLwb85rTU"
      },
      "execution_count": null,
      "outputs": []
    },
    {
      "cell_type": "markdown",
      "source": [
        "Two Assignments\n"
      ],
      "metadata": {
        "id": "D1NUKJL8O_Lm"
      }
    },
    {
      "cell_type": "code",
      "source": [
        "##Assignment\n",
        "#using both list comprehension and code\n",
        "#Example1:Create a list of only the prime numbers from given list\n",
        "number = [1,2,3,4,5,6,7,8,9,10]\n",
        "\n"
      ],
      "metadata": {
        "id": "r_AiCuWbHvVY"
      },
      "execution_count": null,
      "outputs": []
    },
    {
      "cell_type": "code",
      "source": [
        "#Example2:Create a list of all possible combinations of 2 elements in the list\n",
        "number = [1,2,3,4,5]"
      ],
      "metadata": {
        "id": "O6GuIB1OJysY"
      },
      "execution_count": null,
      "outputs": []
    },
    {
      "cell_type": "code",
      "source": [
        "lst_6 = [1,2,3,4,5,6]\n",
        "lst_6.insert(-1, 8)"
      ],
      "metadata": {
        "id": "ILtMCGV4LenY"
      },
      "execution_count": null,
      "outputs": []
    },
    {
      "cell_type": "code",
      "source": [
        "lst_6"
      ],
      "metadata": {
        "colab": {
          "base_uri": "https://localhost:8080/"
        },
        "id": "vKQQyDpr6RT8",
        "outputId": "2b5de3d1-60ec-4987-a559-bc01f2f958b7"
      },
      "execution_count": null,
      "outputs": [
        {
          "output_type": "execute_result",
          "data": {
            "text/plain": [
              "[1, 2, 3, 4, 5, 8, 6]"
            ]
          },
          "metadata": {},
          "execution_count": 7
        }
      ]
    },
    {
      "cell_type": "code",
      "source": [
        "lst_6.insert(3,10) #previous element at index 3 is moved towards right and new one is added at the given index"
      ],
      "metadata": {
        "id": "IH3U_V2d6Sfb"
      },
      "execution_count": null,
      "outputs": []
    },
    {
      "cell_type": "code",
      "source": [
        "lst_6"
      ],
      "metadata": {
        "colab": {
          "base_uri": "https://localhost:8080/"
        },
        "id": "jeUAlPgO6Ylk",
        "outputId": "b8511aa8-37a1-4320-e0e6-356b1212b560"
      },
      "execution_count": null,
      "outputs": [
        {
          "output_type": "execute_result",
          "data": {
            "text/plain": [
              "[1, 2, 3, 10, 10, 4, 5, 8, 6, 1000]"
            ]
          },
          "metadata": {},
          "execution_count": 14
        }
      ]
    },
    {
      "cell_type": "code",
      "source": [
        "#to insert element exactly at the end using insert method\n",
        "\n",
        "lst_6.insert(len(lst_6)+1,1000)"
      ],
      "metadata": {
        "id": "bVqJ72kA6aEj"
      },
      "execution_count": null,
      "outputs": []
    },
    {
      "cell_type": "code",
      "source": [
        "lst_6"
      ],
      "metadata": {
        "colab": {
          "base_uri": "https://localhost:8080/"
        },
        "id": "O4XwmetL7Tha",
        "outputId": "695433d8-3f90-4e15-ed13-234f802aba9a"
      },
      "execution_count": null,
      "outputs": [
        {
          "output_type": "execute_result",
          "data": {
            "text/plain": [
              "[1, 2, 3, 10, 10, 4, 5, 8, 6, 1000, 1000]"
            ]
          },
          "metadata": {},
          "execution_count": 16
        }
      ]
    },
    {
      "cell_type": "code",
      "source": [
        "lst_6.sort() #makes changes to original list"
      ],
      "metadata": {
        "id": "LlcsYOa57W1o"
      },
      "execution_count": null,
      "outputs": []
    },
    {
      "cell_type": "code",
      "source": [
        "lst_6"
      ],
      "metadata": {
        "colab": {
          "base_uri": "https://localhost:8080/"
        },
        "id": "xGZ9Z1GcEnY7",
        "outputId": "a08f778e-892f-41d1-f12d-14ec40c37d58"
      },
      "execution_count": null,
      "outputs": [
        {
          "output_type": "execute_result",
          "data": {
            "text/plain": [
              "[1, 2, 3, 4, 5, 6, 8, 10, 10, 1000, 1000]"
            ]
          },
          "metadata": {},
          "execution_count": 22
        }
      ]
    },
    {
      "cell_type": "code",
      "source": [
        "sorted(lst_6)  #retuns the new list #we can save this somewhere"
      ],
      "metadata": {
        "colab": {
          "base_uri": "https://localhost:8080/"
        },
        "id": "kR0YeqDYEo1N",
        "outputId": "9dff822e-cc9f-4eeb-bd16-15b3ab2cdb96"
      },
      "execution_count": null,
      "outputs": [
        {
          "output_type": "execute_result",
          "data": {
            "text/plain": [
              "[1, 2, 3, 4, 5, 6, 8, 10, 10, 1000, 1000]"
            ]
          },
          "metadata": {},
          "execution_count": 23
        }
      ]
    },
    {
      "cell_type": "markdown",
      "source": [
        "Customize Sort Function\n",
        "You can also customize your own function by using the keyword argument key = function.\n",
        "\n",
        "The function will return a number that will be used to sort the list (the lowest number first):"
      ],
      "metadata": {
        "id": "OG3gS6290nYK"
      }
    },
    {
      "cell_type": "markdown",
      "source": [
        "The sort() method sorts the list ascending by default.\n",
        "\n",
        "You can also make a function to decide the sorting criteria(s).\n",
        "\n",
        "Syntax\n",
        "list.sort(reverse=True|False, key=myFunc)\n",
        "\n",
        "\n",
        "-key\tOptional. A function to specify the sorting criteria(s)"
      ],
      "metadata": {
        "id": "TwaNLbRW1HDx"
      }
    },
    {
      "cell_type": "code",
      "source": [
        "def myfunc(n):\n",
        "  return abs(n - 50)\n",
        "\n",
        "thislist = [100, 50, 65, 82, 23]\n",
        "thislist.sort(key = myfunc)\n",
        "print(thislist)"
      ],
      "metadata": {
        "id": "Wpje5BZ6EsVs",
        "colab": {
          "base_uri": "https://localhost:8080/"
        },
        "outputId": "45f5b3a9-aa56-490e-989e-88ece2b2dd9d"
      },
      "execution_count": 1,
      "outputs": [
        {
          "output_type": "stream",
          "name": "stdout",
          "text": [
            "[50, 65, 23, 82, 100]\n"
          ]
        }
      ]
    },
    {
      "cell_type": "code",
      "source": [
        "# A function that returns the length of the value:\n",
        "def myFunc(e):\n",
        "  return len(e)\n",
        "\n",
        "cars = ['Ford', 'Mitsubishi', 'BMW', 'VW']\n",
        "\n",
        "cars.sort(key=myFunc)"
      ],
      "metadata": {
        "id": "j6MywC8d0tgS"
      },
      "execution_count": 3,
      "outputs": []
    },
    {
      "cell_type": "code",
      "source": [
        "# A function that returns the 'year' value:\n",
        "def myFunc(e):\n",
        "  return e['year']\n",
        "\n",
        "cars = [\n",
        "  {'car': 'Ford', 'year': 2005},\n",
        "  {'car': 'Mitsubishi', 'year': 2000},\n",
        "  {'car': 'BMW', 'year': 2019},\n",
        "  {'car': 'VW', 'year': 2011}\n",
        "]\n",
        "\n",
        "cars.sort(key=myFunc)"
      ],
      "metadata": {
        "id": "W6Y8awGc1Qua"
      },
      "execution_count": null,
      "outputs": []
    }
  ],
  "metadata": {
    "colab": {
      "provenance": []
    },
    "kernelspec": {
      "display_name": "Python 3",
      "name": "python3"
    },
    "language_info": {
      "name": "python"
    }
  },
  "nbformat": 4,
  "nbformat_minor": 0
}